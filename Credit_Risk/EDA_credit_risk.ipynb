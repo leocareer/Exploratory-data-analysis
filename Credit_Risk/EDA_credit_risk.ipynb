{
 "cells": [
  {
   "cell_type": "markdown",
   "id": "477c7355-c21b-4680-b6c1-e79bad11b88f",
   "metadata": {},
   "source": [
    "# Exploratory data analysis of Credit Risk data"
   ]
  },
  {
   "cell_type": "markdown",
   "id": "e2e979e2-ed2f-48ff-a7f8-4e3e449486d0",
   "metadata": {},
   "source": [
    "### Context "
   ]
  },
  {
   "cell_type": "markdown",
   "id": "db2c0679-7129-46b5-940b-6c12e17caecc",
   "metadata": {},
   "source": [
    "The dataset contains 1000 entries with 10 categorial/symbolic attributes. In this dataset, each entry represents a person who takes a credit by a bank. Each person is classified as good or bad credit risks according to the set of attributes."
   ]
  },
  {
   "cell_type": "markdown",
   "id": "f046436c-cb70-4992-bb50-b31e8ca1b941",
   "metadata": {},
   "source": [
    "[www.kaggle.com/datasets/uciml/german-credit/data](https://www.kaggle.com/datasets/uciml/german-credit/data)"
   ]
  },
  {
   "cell_type": "markdown",
   "id": "5c67e8d1-dc0f-48ce-bb4a-02cfceacfa47",
   "metadata": {},
   "source": [
    "### Attributes"
   ]
  },
  {
   "cell_type": "markdown",
   "id": "a496d1e6-8bc3-4388-926c-8da2504cfded",
   "metadata": {},
   "source": [
    "1. Age (numeric)\n",
    "2. Sex (text: male, female)\n",
    "3. Job (numeric: 0 - unskilled and non-resident, 1 - unskilled and resident, 2 - skilled, 3 - highly skilled)\n",
    "4. Housing (text: own, rent, or free)\n",
    "5. Saving accounts (text - little, moderate, quite rich, rich)\n",
    "6. Checking account (numeric, in DM - Deutsch Mark)\n",
    "7. Credit amount (numeric, in DM)\n",
    "8. Duration (numeric, in month)\n",
    "9. Purpose (text: car, furniture/equipment, radio/TV, domestic appliances, repairs, education, business, vacation/others)\n",
    "10. Risk (text: good, bad)"
   ]
  },
  {
   "cell_type": "markdown",
   "id": "6658373e-45c4-407e-97b8-2bbd7d29a2c0",
   "metadata": {},
   "source": [
    "### Purposes"
   ]
  },
  {
   "cell_type": "markdown",
   "id": "07fc59e2-4c86-41b6-9acc-f603c4cf1d16",
   "metadata": {},
   "source": [
    "There are the following hypotheses that need to be tested:\n",
    "\n",
    "1. Each of the attributes individually affects credit risk\n",
    "2. There is an interaction between various attributes and they jointly affect credit risk"
   ]
  },
  {
   "cell_type": "markdown",
   "id": "139f6b54-a293-48a8-8e25-1e69373081a3",
   "metadata": {},
   "source": [
    "### Initial data inspection"
   ]
  },
  {
   "cell_type": "markdown",
   "id": "ec7c720e-c915-40c7-9e7e-3e74600e6501",
   "metadata": {},
   "source": [
    "First, I load the data from the file, look at the dataset size, data types and several lines of the dataset, identify any obvious inconsistencies and draw conclusions for the next stage of data preparation:"
   ]
  },
  {
   "cell_type": "code",
   "execution_count": 1,
   "id": "8155024a-5fc0-4ca8-826b-8a63f762bcc0",
   "metadata": {},
   "outputs": [],
   "source": [
    "# Importing the necessary libraries\n",
    "import pandas as pd"
   ]
  },
  {
   "cell_type": "code",
   "execution_count": 2,
   "id": "bfd9ed04-61b4-4ef0-a184-b5bdfb23844d",
   "metadata": {},
   "outputs": [],
   "source": [
    "# Loading data\n",
    "df = pd.read_csv('german_credit_data.csv')"
   ]
  },
  {
   "cell_type": "code",
   "execution_count": 3,
   "id": "f80fa458-cdfe-4141-9e82-417a909e8a33",
   "metadata": {},
   "outputs": [
    {
     "name": "stdout",
     "output_type": "stream",
     "text": [
      "\n",
      "Number of lines: 1000\n",
      "Number of columns: 11\n"
     ]
    }
   ],
   "source": [
    "# Dataset size\n",
    "num_rows, num_columns = df.shape\n",
    "print(f\"\\nNumber of lines: {num_rows}\")\n",
    "print(f\"Number of columns: {num_columns}\")"
   ]
  },
  {
   "cell_type": "markdown",
   "id": "cdeae048-ac77-4e50-9218-5e384e2f97d8",
   "metadata": {},
   "source": [
    "The number of rows is 1000 as stated, and the number of columns is 11, which does not correspond to the stated 10, need to check this column:"
   ]
  },
  {
   "cell_type": "code",
   "execution_count": 4,
   "id": "350527e1-90a4-4623-90b0-636c25979159",
   "metadata": {
    "scrolled": true
   },
   "outputs": [
    {
     "name": "stdout",
     "output_type": "stream",
     "text": [
      "First 10 lines of the dataset:\n",
      "\n",
      "   Unnamed: 0  Age     Sex  Job Housing Saving accounts Checking account  \\\n",
      "0           0   67    male    2     own             NaN           little   \n",
      "1           1   22  female    2     own          little         moderate   \n",
      "2           2   49    male    1     own          little              NaN   \n",
      "3           3   45    male    2    free          little           little   \n",
      "4           4   53    male    2    free          little           little   \n",
      "5           5   35    male    1    free             NaN              NaN   \n",
      "6           6   53    male    2     own      quite rich              NaN   \n",
      "7           7   35    male    3    rent          little         moderate   \n",
      "8           8   61    male    1     own            rich              NaN   \n",
      "9           9   28    male    3     own          little         moderate   \n",
      "\n",
      "   Credit amount  Duration              Purpose  Risk  \n",
      "0           1169         6             radio/TV  good  \n",
      "1           5951        48             radio/TV   bad  \n",
      "2           2096        12            education  good  \n",
      "3           7882        42  furniture/equipment  good  \n",
      "4           4870        24                  car   bad  \n",
      "5           9055        36            education  good  \n",
      "6           2835        24  furniture/equipment  good  \n",
      "7           6948        36                  car  good  \n",
      "8           3059        12             radio/TV  good  \n",
      "9           5234        30                  car   bad  \n"
     ]
    }
   ],
   "source": [
    "# View first 10 lines\n",
    "print(\"First 10 lines of the dataset:\\n\")\n",
    "print(df.head(10))"
   ]
  },
  {
   "cell_type": "markdown",
   "id": "2ed0b2b9-103d-4884-9105-0e002db42a6d",
   "metadata": {},
   "source": [
    "Obvious inconsistencies:\n",
    "\n",
    "1. There is an extra column “Unnamed”, presumably with the entry identifier, need to understand whether it is needed\n",
    "2. The \"Checking account\" values do not correspond to the declared data type, need to figure out where the error is\n",
    "3. There are missing values in “Saving accounts” and “Checking account”, need to find out the percentage of missing data and how to replace it"
   ]
  },
  {
   "cell_type": "markdown",
   "id": "659ba61f-2ce0-4e87-8d39-2a1041e46b75",
   "metadata": {},
   "source": [
    "Dealing with the column “Unnamed”:"
   ]
  },
  {
   "cell_type": "code",
   "execution_count": 5,
   "id": "fc7b4953-eef2-475a-9076-f5cea78f53e1",
   "metadata": {},
   "outputs": [
    {
     "name": "stdout",
     "output_type": "stream",
     "text": [
      "Number of unique values in column “Unnamed”: 1000\n"
     ]
    }
   ],
   "source": [
    "# Viewing the number of unique values\n",
    "unique_count = df.iloc[:, 0].nunique()\n",
    "print(f\"Number of unique values in column “Unnamed”: {unique_count}\")"
   ]
  },
  {
   "cell_type": "code",
   "execution_count": 8,
   "id": "d94bb99c-965e-4379-ad1d-14249d1e1a8f",
   "metadata": {},
   "outputs": [
    {
     "name": "stdout",
     "output_type": "stream",
     "text": [
      "Minimum value: 0\n",
      "Maximum value: 999\n"
     ]
    }
   ],
   "source": [
    "# Checking the minimum and maximum value\n",
    "min_value = df.iloc[:, 0].min()\n",
    "max_value = df.iloc[:, 0].max()\n",
    "\n",
    "print(f\"Minimum value: {min_value}\")\n",
    "print(f\"Maximum value: {max_value}\")"
   ]
  },
  {
   "cell_type": "markdown",
   "id": "639eb7df-74d1-437e-8c4e-aa4a70f3939d",
   "metadata": {},
   "source": [
    "More likely “Unnamed” is the entry identifier, it's not needed"
   ]
  },
  {
   "cell_type": "markdown",
   "id": "00a564a4-688d-4af3-976e-255d564c8951",
   "metadata": {},
   "source": [
    "Dealing with the column “Checking account”:"
   ]
  },
  {
   "cell_type": "code",
   "execution_count": 11,
   "id": "9ecde12d-5b2f-423c-99ac-c57fdf67cc73",
   "metadata": {},
   "outputs": [
    {
     "name": "stdout",
     "output_type": "stream",
     "text": [
      "Values in Checking account: ['little' 'moderate' nan 'rich']\n"
     ]
    }
   ],
   "source": [
    "# View unique values\n",
    "unique_values = df['Checking account'].unique()\n",
    "print(f\"Values in Checking account: {unique_values}\")"
   ]
  },
  {
   "cell_type": "markdown",
   "id": "149f8b02-82b5-431d-9e60-860736951772",
   "metadata": {},
   "source": [
    "Here it will be necessary to take into account the error in the description of the data and the further impact on the study"
   ]
  },
  {
   "cell_type": "markdown",
   "id": "5e4d0259-ae3d-4c90-9619-4040b9a2490c",
   "metadata": {},
   "source": [
    "Dealing with empty values in “Saving accounts” and “Checking account”. I check the percentage of missing data, and I do this check for all attributes at once:"
   ]
  },
  {
   "cell_type": "code",
   "execution_count": 21,
   "id": "0736aef3-0a9d-459d-92f2-2c73adf9f03f",
   "metadata": {},
   "outputs": [
    {
     "name": "stdout",
     "output_type": "stream",
     "text": [
      "Percentage of empty data in Unnamed: 0: 0.0%\n",
      "Percentage of empty data in Age: 0.0%\n",
      "Percentage of empty data in Sex: 0.0%\n",
      "Percentage of empty data in Job: 0.0%\n",
      "Percentage of empty data in Housing: 0.0%\n",
      "Percentage of empty data in Saving accounts: 18.3%\n",
      "Percentage of empty data in Checking account: 39.4%\n",
      "Percentage of empty data in Credit amount: 0.0%\n",
      "Percentage of empty data in Duration: 0.0%\n",
      "Percentage of empty data in Purpose: 0.0%\n",
      "Percentage of empty data in Risk: 0.0%\n"
     ]
    }
   ],
   "source": [
    "# Viewing missing data\n",
    "for attribute in df.columns:\n",
    "    null_percentage = df[attribute].isnull().mean() * 100\n",
    "    print(f\"Percentage of empty data in {attribute}: {null_percentage}%\")"
   ]
  },
  {
   "cell_type": "markdown",
   "id": "262e0be3-1c48-4e7f-9e73-a021855ea1d3",
   "metadata": {},
   "source": [
    "With 39.4% blank values, it can be assumed that a significant number of customers either do not have current accounts or information about them has not been collected. A high percentage of empty values in Checking Accounts can significantly impact analysis results. Potential bias due to missing values should be taken into account when interpreting results."
   ]
  },
  {
   "cell_type": "markdown",
   "id": "3694fee6-2c41-4f81-80a5-61cc372a879c",
   "metadata": {},
   "source": [
    "Low percentage of missing data in savings accounts 18.3%, it can be concluded that savings account information is available to most customers."
   ]
  },
  {
   "cell_type": "markdown",
   "id": "daa5f25d-da66-4e06-8c15-a7c0c70bb94d",
   "metadata": {},
   "source": [
    "In any case, need to decide how to handle missing data before the next stage."
   ]
  },
  {
   "cell_type": "markdown",
   "id": "eb8e7653-5f33-473f-9444-34b096154e99",
   "metadata": {},
   "source": [
    "There are no blanks in all other fields. Now I'm looking to see if there are duplicates:"
   ]
  },
  {
   "cell_type": "code",
   "execution_count": 38,
   "id": "4ccfaf2f-bb2c-45bf-b167-b3f0360d11cb",
   "metadata": {},
   "outputs": [
    {
     "name": "stdout",
     "output_type": "stream",
     "text": [
      "Number of duplicates: 0\n"
     ]
    }
   ],
   "source": [
    "# Check for duplicates in all columns except the first\n",
    "columns_to_check = df.iloc[:, 1:]\n",
    "duplicates = df.duplicated(columns_to_check.columns)\n",
    "print(f'Number of duplicates: {duplicates.sum()}')"
   ]
  },
  {
   "cell_type": "code",
   "execution_count": 39,
   "id": "0cf8831d-e103-4bbc-9319-c165db274117",
   "metadata": {},
   "outputs": [
    {
     "name": "stdout",
     "output_type": "stream",
     "text": [
      "\n",
      "Data types in each column:\n",
      "Unnamed: 0           int64\n",
      "Age                  int64\n",
      "Sex                 object\n",
      "Job                  int64\n",
      "Housing             object\n",
      "Saving accounts     object\n",
      "Checking account    object\n",
      "Credit amount        int64\n",
      "Duration             int64\n",
      "Purpose             object\n",
      "Risk                object\n",
      "dtype: object\n"
     ]
    }
   ],
   "source": [
    "# Checking data types\n",
    "print(\"\\nData types in each column:\")\n",
    "print(df.dtypes)"
   ]
  },
  {
   "cell_type": "markdown",
   "id": "15216b0b-93cd-4dc9-9eff-2076a38ee06e",
   "metadata": {},
   "source": [
    "Data types of \"Sex\", \"Housing\", \"Saving accounts\", \"Checking account\", \"Purpose\", \"Risk\" need to be changed to \"category\"."
   ]
  },
  {
   "cell_type": "markdown",
   "id": "d96e9c3b-2dba-447d-8baf-0f1410bead94",
   "metadata": {},
   "source": [
    "\n",
    "So, what needs to be done in data cleaning including:\n",
    "\n",
    "1. to remove first column\n",
    "2. to correct data types\n",
    "3. to fill empty values"
   ]
  },
  {
   "cell_type": "code",
   "execution_count": null,
   "id": "53ef19d2-3ee3-4190-b166-c80c81564190",
   "metadata": {},
   "outputs": [],
   "source": []
  }
 ],
 "metadata": {
  "kernelspec": {
   "display_name": "Python 3 (ipykernel)",
   "language": "python",
   "name": "python3"
  },
  "language_info": {
   "codemirror_mode": {
    "name": "ipython",
    "version": 3
   },
   "file_extension": ".py",
   "mimetype": "text/x-python",
   "name": "python",
   "nbconvert_exporter": "python",
   "pygments_lexer": "ipython3",
   "version": "3.12.4"
  }
 },
 "nbformat": 4,
 "nbformat_minor": 5
}
