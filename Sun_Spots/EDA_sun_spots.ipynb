{
 "cells": [
  {
   "cell_type": "markdown",
   "metadata": {},
   "source": [
    "# Sun Spots"
   ]
  },
  {
   "cell_type": "markdown",
   "metadata": {},
   "source": [
    "The **sunspot.csv** table contains data on solar spot observations since 1818.\n",
    "\n",
    "- **Year** - year of observation;\n",
    "- **Month** - month of observation;\n",
    "- **Day** - day of observation;\n",
    "- **Number of spots** - total number of sunspots observed on that day. The column provides the average value if there are observations from different observatories. If there is no data for that day, the value in the column is -1;\n",
    "- **Standard Deviation** - standard deviation of observations from different stations. If there is no data for that day, the value in the column is -1;\n",
    "- **Observations** - the number of stations reporting observations on that day."
   ]
  },
  {
   "cell_type": "markdown",
   "metadata": {},
   "source": [
    "I took the task here: [fadeevlecturer.github.io](https://fadeevlecturer.github.io/python_lectures/docs/index.html)"
   ]
  },
  {
   "cell_type": "markdown",
   "metadata": {},
   "source": [
    "**`Task:`**\n",
    "\n",
    "1. **Combine date columns:** combine the first three columns into a datetime column;\n",
    "2. **Replace missing values:** replace all -1 values, corresponding to missing data, with np.nan;\n",
    "3. **Calculate yearly data:** for each year, calculate the total number of days with available data and the total number of sunspots observed;\n",
    "4. **Visualize yearly data:** plot graphs for these quantities;\n",
    "5. **Visualize average monthly spots:** Based on data from the 21st century only, calculate the average number of sunspots per month and construct a bar plot."
   ]
  },
  {
   "cell_type": "markdown",
   "metadata": {},
   "source": [
    "**`Combining of date columns:`**"
   ]
  },
  {
   "cell_type": "markdown",
   "metadata": {},
   "source": [
    "**`Replacing of missing values:`**"
   ]
  },
  {
   "cell_type": "markdown",
   "metadata": {},
   "source": [
    "**`Calculating of yearly data:`**"
   ]
  },
  {
   "cell_type": "markdown",
   "metadata": {},
   "source": [
    "**`Visualizing of yearly data:`**"
   ]
  },
  {
   "cell_type": "markdown",
   "metadata": {},
   "source": [
    "**`Visualizing of average monthly spots:`**"
   ]
  }
 ],
 "metadata": {
  "kernelspec": {
   "display_name": "Python 3.12.4 64-bit",
   "language": "python",
   "name": "python3"
  },
  "language_info": {
   "name": "python",
   "version": "3.12.4"
  },
  "orig_nbformat": 4,
  "vscode": {
   "interpreter": {
    "hash": "aee8b7b246df8f9039afb4144a1f6fd8d2ca17a180786b69acc140d282b71a49"
   }
  }
 },
 "nbformat": 4,
 "nbformat_minor": 2
}
