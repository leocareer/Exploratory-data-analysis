{
 "cells": [
  {
   "cell_type": "markdown",
   "metadata": {},
   "source": [
    "# Stars"
   ]
  },
  {
   "cell_type": "markdown",
   "metadata": {},
   "source": [
    "The file **stars.csv** contains information about 240 stars.\n",
    "\n",
    "- **Temperature (K)** — the temperature in Kelvin;\n",
    "- **Luminosity (L/Lo)** — the luminosity of the star relative to the solar luminosity L = 3.828 * 10^26 (W);\n",
    "- **Radius (R/Ro)** — the radius of the star relative to the radius of the sun R = 6.9551 * 10^8 (m);\n",
    "- **Absolute magnitude (Mv)** — the absolute magnitude of the star;\n",
    "- **Star color** — the color of the star;\n",
    "- **Star type** — the type of star, represented by a number from 0 to 5, where:\n",
    "\t- 0 — Red Dwarf,\n",
    "\t- 1 — Brown Dwarf,\n",
    "\t- 2 — White Dwarf,\n",
    "\t- 3 — Main Sequence,\n",
    "\t- 4 — Super Giants,\n",
    "\t- 5 — Hyper Giants;\n",
    "- **Spectral Class** — the spectral class of the star (one of O, B, A, F, G, K, or M)."
   ]
  },
  {
   "cell_type": "markdown",
   "metadata": {},
   "source": [
    "I took the task here: [fadeevlecturer.github.io](https://fadeevlecturer.github.io/python_lectures/docs/index.html)"
   ]
  },
  {
   "cell_type": "markdown",
   "metadata": {},
   "source": [
    "**`Task:`**\n",
    "\n",
    "1. **Clean the color column:** standardize the values in this column so that variations like 'Blue white', 'Blue White', and 'Blue-white' are treated as the same;\n",
    "2. **Star type names:** create a new column where the star type is represented as a full string instead of a number;\n",
    "3. **Convert spectral class to numbers:** add a new column where the spectral class is represented by numbers, using the following mapping:\n",
    "\t- O → 0,\n",
    "\t- B → 1,\n",
    "\t- A → 2,\n",
    "\t- F → 3,\n",
    "\t- G → 4,\n",
    "\t- K → 5,\n",
    "\t- M → 6;\n",
    "4. **Count the number of stars:** for each star color, star type, and spectral class, calculate the number of stars;\n",
    "5. **Star type analysis:** for each star type, find the minimum, average, and maximum values of the absolute magnitude;\n",
    "6. **Spectral class analysis:** for each spectral class, find the minimum, average, and maximum values of the temperature;\n",
    "7. **Correlation analysis:** compute pairwise correlations between all numerical columns.\n"
   ]
  },
  {
   "cell_type": "markdown",
   "metadata": {},
   "source": [
    "**`Cleaning of the color column:`**"
   ]
  },
  {
   "cell_type": "code",
   "execution_count": 39,
   "metadata": {},
   "outputs": [
    {
     "name": "stdout",
     "output_type": "stream",
     "text": [
      "<class 'pandas.core.frame.DataFrame'>\n",
      "RangeIndex: 240 entries, 0 to 239\n",
      "Data columns (total 7 columns):\n",
      " #   Column                  Non-Null Count  Dtype  \n",
      "---  ------                  --------------  -----  \n",
      " 0   Temperature (K)         240 non-null    int64  \n",
      " 1   Luminosity(L/Lo)        240 non-null    float64\n",
      " 2   Radius(R/Ro)            240 non-null    float64\n",
      " 3   Absolute magnitude(Mv)  240 non-null    float64\n",
      " 4   Star type               240 non-null    int64  \n",
      " 5   Star color              240 non-null    object \n",
      " 6   Spectral Class          240 non-null    object \n",
      "dtypes: float64(3), int64(2), object(2)\n",
      "memory usage: 13.3+ KB\n"
     ]
    }
   ],
   "source": [
    "import pandas as pd\n",
    "stars = pd.read_csv('stars.csv')\n",
    "stars.sample(n=10)\n",
    "stars.info()"
   ]
  },
  {
   "cell_type": "code",
   "execution_count": 40,
   "metadata": {},
   "outputs": [
    {
     "data": {
      "text/plain": [
       "Star color\n",
       "Red                   112\n",
       "Blue                   55\n",
       "Blue-white             26\n",
       "Blue White             10\n",
       "yellow-white            8\n",
       "White                   7\n",
       "Blue white              3\n",
       "Yellowish White         3\n",
       "white                   3\n",
       "Whitish                 2\n",
       "Orange                  2\n",
       "yellowish               2\n",
       "Pale yellow orange      1\n",
       "White-Yellow            1\n",
       "Blue                    1\n",
       "Yellowish               1\n",
       "Orange-Red              1\n",
       "Blue white              1\n",
       "Blue-White              1\n",
       "Name: count, dtype: int64"
      ]
     },
     "execution_count": 40,
     "metadata": {},
     "output_type": "execute_result"
    }
   ],
   "source": [
    "stars['Star color'].value_counts()"
   ]
  },
  {
   "cell_type": "code",
   "execution_count": 41,
   "metadata": {},
   "outputs": [
    {
     "data": {
      "text/plain": [
       "array(['Red', 'Blue white', 'White', 'Yellowish white',\n",
       "       'Pale yellow orange', 'Blue', 'Whitish', 'Orange', 'White yellow',\n",
       "       'Blue ', 'Yellowish', 'Orange red', 'Blue white '], dtype=object)"
      ]
     },
     "execution_count": 41,
     "metadata": {},
     "output_type": "execute_result"
    }
   ],
   "source": [
    "replace_color_dict = {\n",
    "  'Blue-white': 'Blue white',\n",
    "  'Blue White': 'Blue white',\n",
    "  'yellow-white': 'Yellowish white',\n",
    "  'Yellowish White': 'Yellowish white',\n",
    "  'white': 'White',\n",
    "  'yellowish': 'Yellowish',\n",
    "  'White-Yellow': 'White yellow',\n",
    "  'Orange-Red': 'Orange red',\n",
    "  'Blue-White': 'Blue white'\n",
    "}\n",
    "stars['Star color'] = stars['Star color'].replace(replace_color_dict)\n",
    "stars['Star color'].unique()"
   ]
  },
  {
   "cell_type": "markdown",
   "metadata": {},
   "source": [
    "**`Star type names`**"
   ]
  },
  {
   "cell_type": "code",
   "execution_count": 42,
   "metadata": {},
   "outputs": [
    {
     "data": {
      "text/plain": [
       "array([0, 1, 2, 3, 4, 5])"
      ]
     },
     "execution_count": 42,
     "metadata": {},
     "output_type": "execute_result"
    }
   ],
   "source": [
    "stars['Star type'].unique()"
   ]
  },
  {
   "cell_type": "code",
   "execution_count": 43,
   "metadata": {},
   "outputs": [
    {
     "data": {
      "text/plain": [
       "array(['Red Dwarf', 'Brown Dwarf', 'White Dwarf', 'Main Sequence',\n",
       "       'Super Giants', 'Hyper Giants'], dtype=object)"
      ]
     },
     "execution_count": 43,
     "metadata": {},
     "output_type": "execute_result"
    }
   ],
   "source": [
    "replace_type_dict = {\n",
    "  0: 'Red Dwarf',\n",
    "  1: 'Brown Dwarf',\n",
    "  2: 'White Dwarf',\n",
    "  3: 'Main Sequence',\n",
    "  4: 'Super Giants',\n",
    "  5: 'Hyper Giants'\n",
    "}\n",
    "stars['Star type names'] = stars['Star type'].replace(replace_type_dict)\n",
    "stars['Star type names'].unique()"
   ]
  },
  {
   "cell_type": "code",
   "execution_count": 44,
   "metadata": {},
   "outputs": [
    {
     "data": {
      "text/html": [
       "<div>\n",
       "<style scoped>\n",
       "    .dataframe tbody tr th:only-of-type {\n",
       "        vertical-align: middle;\n",
       "    }\n",
       "\n",
       "    .dataframe tbody tr th {\n",
       "        vertical-align: top;\n",
       "    }\n",
       "\n",
       "    .dataframe thead th {\n",
       "        text-align: right;\n",
       "    }\n",
       "</style>\n",
       "<table border=\"1\" class=\"dataframe\">\n",
       "  <thead>\n",
       "    <tr style=\"text-align: right;\">\n",
       "      <th></th>\n",
       "      <th>Temperature (K)</th>\n",
       "      <th>Luminosity(L/Lo)</th>\n",
       "      <th>Radius(R/Ro)</th>\n",
       "      <th>Absolute magnitude(Mv)</th>\n",
       "      <th>Star type</th>\n",
       "      <th>Star color</th>\n",
       "      <th>Spectral Class</th>\n",
       "      <th>Star type names</th>\n",
       "    </tr>\n",
       "  </thead>\n",
       "  <tbody>\n",
       "    <tr>\n",
       "      <th>73</th>\n",
       "      <td>3150</td>\n",
       "      <td>0.008800</td>\n",
       "      <td>0.3500</td>\n",
       "      <td>11.940</td>\n",
       "      <td>1</td>\n",
       "      <td>Red</td>\n",
       "      <td>M</td>\n",
       "      <td>Brown Dwarf</td>\n",
       "    </tr>\n",
       "    <tr>\n",
       "      <th>131</th>\n",
       "      <td>3607</td>\n",
       "      <td>0.000230</td>\n",
       "      <td>0.3800</td>\n",
       "      <td>10.340</td>\n",
       "      <td>1</td>\n",
       "      <td>Red</td>\n",
       "      <td>M</td>\n",
       "      <td>Brown Dwarf</td>\n",
       "    </tr>\n",
       "    <tr>\n",
       "      <th>54</th>\n",
       "      <td>3650</td>\n",
       "      <td>310000.000000</td>\n",
       "      <td>1324.0000</td>\n",
       "      <td>-7.790</td>\n",
       "      <td>5</td>\n",
       "      <td>Red</td>\n",
       "      <td>M</td>\n",
       "      <td>Hyper Giants</td>\n",
       "    </tr>\n",
       "    <tr>\n",
       "      <th>186</th>\n",
       "      <td>2968</td>\n",
       "      <td>0.000461</td>\n",
       "      <td>0.1190</td>\n",
       "      <td>17.450</td>\n",
       "      <td>0</td>\n",
       "      <td>Red</td>\n",
       "      <td>M</td>\n",
       "      <td>Red Dwarf</td>\n",
       "    </tr>\n",
       "    <tr>\n",
       "      <th>92</th>\n",
       "      <td>4077</td>\n",
       "      <td>0.085000</td>\n",
       "      <td>0.7950</td>\n",
       "      <td>6.228</td>\n",
       "      <td>3</td>\n",
       "      <td>Yellowish</td>\n",
       "      <td>K</td>\n",
       "      <td>Main Sequence</td>\n",
       "    </tr>\n",
       "    <tr>\n",
       "      <th>17</th>\n",
       "      <td>3692</td>\n",
       "      <td>0.003670</td>\n",
       "      <td>0.4700</td>\n",
       "      <td>10.800</td>\n",
       "      <td>1</td>\n",
       "      <td>Red</td>\n",
       "      <td>M</td>\n",
       "      <td>Brown Dwarf</td>\n",
       "    </tr>\n",
       "    <tr>\n",
       "      <th>195</th>\n",
       "      <td>3598</td>\n",
       "      <td>0.002700</td>\n",
       "      <td>0.6700</td>\n",
       "      <td>13.667</td>\n",
       "      <td>1</td>\n",
       "      <td>Red</td>\n",
       "      <td>M</td>\n",
       "      <td>Brown Dwarf</td>\n",
       "    </tr>\n",
       "    <tr>\n",
       "      <th>183</th>\n",
       "      <td>3218</td>\n",
       "      <td>0.000452</td>\n",
       "      <td>0.0987</td>\n",
       "      <td>17.340</td>\n",
       "      <td>0</td>\n",
       "      <td>Red</td>\n",
       "      <td>M</td>\n",
       "      <td>Red Dwarf</td>\n",
       "    </tr>\n",
       "    <tr>\n",
       "      <th>16</th>\n",
       "      <td>2799</td>\n",
       "      <td>0.001800</td>\n",
       "      <td>0.1600</td>\n",
       "      <td>14.790</td>\n",
       "      <td>1</td>\n",
       "      <td>Red</td>\n",
       "      <td>M</td>\n",
       "      <td>Brown Dwarf</td>\n",
       "    </tr>\n",
       "    <tr>\n",
       "      <th>158</th>\n",
       "      <td>13023</td>\n",
       "      <td>998.000000</td>\n",
       "      <td>6.2100</td>\n",
       "      <td>-1.380</td>\n",
       "      <td>3</td>\n",
       "      <td>Blue white</td>\n",
       "      <td>A</td>\n",
       "      <td>Main Sequence</td>\n",
       "    </tr>\n",
       "  </tbody>\n",
       "</table>\n",
       "</div>"
      ],
      "text/plain": [
       "     Temperature (K)  Luminosity(L/Lo)  Radius(R/Ro)  Absolute magnitude(Mv)  \\\n",
       "73              3150          0.008800        0.3500                  11.940   \n",
       "131             3607          0.000230        0.3800                  10.340   \n",
       "54              3650     310000.000000     1324.0000                  -7.790   \n",
       "186             2968          0.000461        0.1190                  17.450   \n",
       "92              4077          0.085000        0.7950                   6.228   \n",
       "17              3692          0.003670        0.4700                  10.800   \n",
       "195             3598          0.002700        0.6700                  13.667   \n",
       "183             3218          0.000452        0.0987                  17.340   \n",
       "16              2799          0.001800        0.1600                  14.790   \n",
       "158            13023        998.000000        6.2100                  -1.380   \n",
       "\n",
       "     Star type  Star color Spectral Class Star type names  \n",
       "73           1         Red              M     Brown Dwarf  \n",
       "131          1         Red              M     Brown Dwarf  \n",
       "54           5         Red              M    Hyper Giants  \n",
       "186          0         Red              M       Red Dwarf  \n",
       "92           3   Yellowish              K   Main Sequence  \n",
       "17           1         Red              M     Brown Dwarf  \n",
       "195          1         Red              M     Brown Dwarf  \n",
       "183          0         Red              M       Red Dwarf  \n",
       "16           1         Red              M     Brown Dwarf  \n",
       "158          3  Blue white              A   Main Sequence  "
      ]
     },
     "execution_count": 44,
     "metadata": {},
     "output_type": "execute_result"
    }
   ],
   "source": [
    "stars.sample(n=10)"
   ]
  },
  {
   "cell_type": "markdown",
   "metadata": {},
   "source": [
    "**`Converting of spectral class to numbers:`**"
   ]
  },
  {
   "cell_type": "code",
   "execution_count": 45,
   "metadata": {},
   "outputs": [
    {
     "data": {
      "text/plain": [
       "array(['M', 'B', 'A', 'F', 'O', 'K', 'G'], dtype=object)"
      ]
     },
     "execution_count": 45,
     "metadata": {},
     "output_type": "execute_result"
    }
   ],
   "source": [
    "stars['Spectral Class'].unique()"
   ]
  },
  {
   "cell_type": "code",
   "execution_count": 46,
   "metadata": {},
   "outputs": [
    {
     "data": {
      "text/plain": [
       "array([6, 1, 2, 3, 0, 5, 4])"
      ]
     },
     "execution_count": 46,
     "metadata": {},
     "output_type": "execute_result"
    }
   ],
   "source": [
    "replace_class_dict = {\n",
    "  'M': 6,\n",
    "  'B': 1,\n",
    "  'A': 2,\n",
    "  'F': 3,\n",
    "  'O': 0,\n",
    "  'K': 5,\n",
    "  'G': 4\n",
    "}\n",
    "stars['Spectral Class numbers'] = stars['Spectral Class'].map(replace_class_dict)\n",
    "stars['Spectral Class numbers'].unique()"
   ]
  },
  {
   "cell_type": "code",
   "execution_count": 47,
   "metadata": {},
   "outputs": [
    {
     "data": {
      "text/html": [
       "<div>\n",
       "<style scoped>\n",
       "    .dataframe tbody tr th:only-of-type {\n",
       "        vertical-align: middle;\n",
       "    }\n",
       "\n",
       "    .dataframe tbody tr th {\n",
       "        vertical-align: top;\n",
       "    }\n",
       "\n",
       "    .dataframe thead th {\n",
       "        text-align: right;\n",
       "    }\n",
       "</style>\n",
       "<table border=\"1\" class=\"dataframe\">\n",
       "  <thead>\n",
       "    <tr style=\"text-align: right;\">\n",
       "      <th></th>\n",
       "      <th>Temperature (K)</th>\n",
       "      <th>Luminosity(L/Lo)</th>\n",
       "      <th>Radius(R/Ro)</th>\n",
       "      <th>Absolute magnitude(Mv)</th>\n",
       "      <th>Star type</th>\n",
       "      <th>Star color</th>\n",
       "      <th>Spectral Class</th>\n",
       "      <th>Star type names</th>\n",
       "      <th>Spectral Class numbers</th>\n",
       "    </tr>\n",
       "  </thead>\n",
       "  <tbody>\n",
       "    <tr>\n",
       "      <th>67</th>\n",
       "      <td>2817</td>\n",
       "      <td>0.00098</td>\n",
       "      <td>0.09110</td>\n",
       "      <td>16.45</td>\n",
       "      <td>0</td>\n",
       "      <td>Red</td>\n",
       "      <td>M</td>\n",
       "      <td>Red Dwarf</td>\n",
       "      <td>6</td>\n",
       "    </tr>\n",
       "    <tr>\n",
       "      <th>147</th>\n",
       "      <td>14732</td>\n",
       "      <td>0.00011</td>\n",
       "      <td>0.00892</td>\n",
       "      <td>12.89</td>\n",
       "      <td>2</td>\n",
       "      <td>White</td>\n",
       "      <td>F</td>\n",
       "      <td>White Dwarf</td>\n",
       "      <td>3</td>\n",
       "    </tr>\n",
       "    <tr>\n",
       "      <th>108</th>\n",
       "      <td>24345</td>\n",
       "      <td>142000.00000</td>\n",
       "      <td>57.00000</td>\n",
       "      <td>-6.24</td>\n",
       "      <td>4</td>\n",
       "      <td>Blue</td>\n",
       "      <td>O</td>\n",
       "      <td>Super Giants</td>\n",
       "      <td>0</td>\n",
       "    </tr>\n",
       "    <tr>\n",
       "      <th>26</th>\n",
       "      <td>8570</td>\n",
       "      <td>0.00081</td>\n",
       "      <td>0.00970</td>\n",
       "      <td>14.20</td>\n",
       "      <td>2</td>\n",
       "      <td>Blue white</td>\n",
       "      <td>A</td>\n",
       "      <td>White Dwarf</td>\n",
       "      <td>2</td>\n",
       "    </tr>\n",
       "    <tr>\n",
       "      <th>194</th>\n",
       "      <td>3523</td>\n",
       "      <td>0.00540</td>\n",
       "      <td>0.31900</td>\n",
       "      <td>12.43</td>\n",
       "      <td>1</td>\n",
       "      <td>Red</td>\n",
       "      <td>M</td>\n",
       "      <td>Brown Dwarf</td>\n",
       "      <td>6</td>\n",
       "    </tr>\n",
       "    <tr>\n",
       "      <th>62</th>\n",
       "      <td>2983</td>\n",
       "      <td>0.00024</td>\n",
       "      <td>0.09400</td>\n",
       "      <td>16.09</td>\n",
       "      <td>0</td>\n",
       "      <td>Red</td>\n",
       "      <td>M</td>\n",
       "      <td>Red Dwarf</td>\n",
       "      <td>6</td>\n",
       "    </tr>\n",
       "    <tr>\n",
       "      <th>106</th>\n",
       "      <td>24630</td>\n",
       "      <td>363000.00000</td>\n",
       "      <td>63.00000</td>\n",
       "      <td>-5.83</td>\n",
       "      <td>4</td>\n",
       "      <td>Blue</td>\n",
       "      <td>O</td>\n",
       "      <td>Super Giants</td>\n",
       "      <td>0</td>\n",
       "    </tr>\n",
       "    <tr>\n",
       "      <th>82</th>\n",
       "      <td>8930</td>\n",
       "      <td>0.00056</td>\n",
       "      <td>0.00950</td>\n",
       "      <td>13.78</td>\n",
       "      <td>2</td>\n",
       "      <td>White</td>\n",
       "      <td>A</td>\n",
       "      <td>White Dwarf</td>\n",
       "      <td>2</td>\n",
       "    </tr>\n",
       "    <tr>\n",
       "      <th>122</th>\n",
       "      <td>3218</td>\n",
       "      <td>0.00054</td>\n",
       "      <td>0.11000</td>\n",
       "      <td>20.02</td>\n",
       "      <td>0</td>\n",
       "      <td>Red</td>\n",
       "      <td>M</td>\n",
       "      <td>Red Dwarf</td>\n",
       "      <td>6</td>\n",
       "    </tr>\n",
       "    <tr>\n",
       "      <th>81</th>\n",
       "      <td>10574</td>\n",
       "      <td>0.00014</td>\n",
       "      <td>0.00920</td>\n",
       "      <td>12.02</td>\n",
       "      <td>2</td>\n",
       "      <td>White</td>\n",
       "      <td>F</td>\n",
       "      <td>White Dwarf</td>\n",
       "      <td>3</td>\n",
       "    </tr>\n",
       "  </tbody>\n",
       "</table>\n",
       "</div>"
      ],
      "text/plain": [
       "     Temperature (K)  Luminosity(L/Lo)  Radius(R/Ro)  Absolute magnitude(Mv)  \\\n",
       "67              2817           0.00098       0.09110                   16.45   \n",
       "147            14732           0.00011       0.00892                   12.89   \n",
       "108            24345      142000.00000      57.00000                   -6.24   \n",
       "26              8570           0.00081       0.00970                   14.20   \n",
       "194             3523           0.00540       0.31900                   12.43   \n",
       "62              2983           0.00024       0.09400                   16.09   \n",
       "106            24630      363000.00000      63.00000                   -5.83   \n",
       "82              8930           0.00056       0.00950                   13.78   \n",
       "122             3218           0.00054       0.11000                   20.02   \n",
       "81             10574           0.00014       0.00920                   12.02   \n",
       "\n",
       "     Star type  Star color Spectral Class Star type names  \\\n",
       "67           0         Red              M       Red Dwarf   \n",
       "147          2       White              F     White Dwarf   \n",
       "108          4        Blue              O    Super Giants   \n",
       "26           2  Blue white              A     White Dwarf   \n",
       "194          1         Red              M     Brown Dwarf   \n",
       "62           0         Red              M       Red Dwarf   \n",
       "106          4        Blue              O    Super Giants   \n",
       "82           2       White              A     White Dwarf   \n",
       "122          0         Red              M       Red Dwarf   \n",
       "81           2       White              F     White Dwarf   \n",
       "\n",
       "     Spectral Class numbers  \n",
       "67                        6  \n",
       "147                       3  \n",
       "108                       0  \n",
       "26                        2  \n",
       "194                       6  \n",
       "62                        6  \n",
       "106                       0  \n",
       "82                        2  \n",
       "122                       6  \n",
       "81                        3  "
      ]
     },
     "execution_count": 47,
     "metadata": {},
     "output_type": "execute_result"
    }
   ],
   "source": [
    "stars.sample(n=10)"
   ]
  },
  {
   "cell_type": "code",
   "execution_count": 48,
   "metadata": {},
   "outputs": [
    {
     "name": "stdout",
     "output_type": "stream",
     "text": [
      "<class 'pandas.core.frame.DataFrame'>\n",
      "RangeIndex: 240 entries, 0 to 239\n",
      "Data columns (total 9 columns):\n",
      " #   Column                  Non-Null Count  Dtype  \n",
      "---  ------                  --------------  -----  \n",
      " 0   Temperature (K)         240 non-null    int64  \n",
      " 1   Luminosity(L/Lo)        240 non-null    float64\n",
      " 2   Radius(R/Ro)            240 non-null    float64\n",
      " 3   Absolute magnitude(Mv)  240 non-null    float64\n",
      " 4   Star type               240 non-null    int64  \n",
      " 5   Star color              240 non-null    object \n",
      " 6   Spectral Class          240 non-null    object \n",
      " 7   Star type names         240 non-null    object \n",
      " 8   Spectral Class numbers  240 non-null    int64  \n",
      "dtypes: float64(3), int64(3), object(3)\n",
      "memory usage: 17.0+ KB\n"
     ]
    }
   ],
   "source": [
    "stars.info()"
   ]
  },
  {
   "cell_type": "code",
   "execution_count": null,
   "metadata": {},
   "outputs": [],
   "source": []
  }
 ],
 "metadata": {
  "kernelspec": {
   "display_name": "Python 3 (ipykernel)",
   "language": "python",
   "name": "python3"
  },
  "language_info": {
   "codemirror_mode": {
    "name": "ipython",
    "version": 3
   },
   "file_extension": ".py",
   "mimetype": "text/x-python",
   "name": "python",
   "nbconvert_exporter": "python",
   "pygments_lexer": "ipython3",
   "version": "3.12.4"
  },
  "vscode": {
   "interpreter": {
    "hash": "aee8b7b246df8f9039afb4144a1f6fd8d2ca17a180786b69acc140d282b71a49"
   }
  }
 },
 "nbformat": 4,
 "nbformat_minor": 4
}
