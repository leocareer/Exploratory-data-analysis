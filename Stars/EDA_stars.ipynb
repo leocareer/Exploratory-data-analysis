{
 "cells": [
  {
   "cell_type": "markdown",
   "metadata": {},
   "source": [
    "# Stars"
   ]
  },
  {
   "cell_type": "markdown",
   "metadata": {},
   "source": [
    "The file **stars.csv** contains information about 240 stars.\n",
    "\n",
    "- **Temperature (K)** — the temperature in Kelvin;\n",
    "- **Luminosity (L/Lo)** — the luminosity of the star relative to the solar luminosity L = 3.828 * 10^26 (W);\n",
    "- **Radius (R/Ro)** — the radius of the star relative to the radius of the sun R = 6.9551 * 10^8 (m);\n",
    "- **Absolute magnitude (Mv)** — the absolute magnitude of the star;\n",
    "- **Star color** — the color of the star;\n",
    "- **Star type** — the type of star, represented by a number from 0 to 5, where:\n",
    "\t- 0 — Red Dwarf,\n",
    "\t- 1 — Brown Dwarf,\n",
    "\t- 2 — White Dwarf,\n",
    "\t- 3 — Main Sequence,\n",
    "\t- 4 — Super Giants,\n",
    "\t- 5 — Hyper Giants;\n",
    "- **Spectral Class** — the spectral class of the star (one of O, B, A, F, G, K, or M)."
   ]
  },
  {
   "cell_type": "markdown",
   "metadata": {},
   "source": [
    "I took the task here: [fadeevlecturer.github.io](https://fadeevlecturer.github.io/python_lectures/docs/index.html)"
   ]
  },
  {
   "cell_type": "markdown",
   "metadata": {},
   "source": [
    "**`Task:`**\n",
    "\n",
    "1. **Clean the color column:** standardize the values in this column so that variations like 'Blue white', 'Blue White', and 'Blue-white' are treated as the same;\n",
    "2. **Star type names:** create a new column where the star type is represented as a full string instead of a number;\n",
    "3. **Convert spectral class to numbers:** add a new column where the spectral class is represented by numbers, using the following mapping:\n",
    "\t- O → 0,\n",
    "\t- B → 1,\n",
    "\t- A → 2,\n",
    "\t- F → 3,\n",
    "\t- G → 4,\n",
    "\t- K → 5,\n",
    "\t- M → 6;\n",
    "4. **Count the number of stars:** for each star color, star type, and spectral class, calculate the number of stars;\n",
    "5. **Star type analysis:** for each star type, find the minimum, average, and maximum values of the absolute magnitude;\n",
    "6. **Spectral class analysis:** for each spectral class, find the minimum, average, and maximum values of the temperature;\n",
    "7. **Correlation analysis:** compute pairwise correlations between all numerical columns.\n"
   ]
  },
  {
   "cell_type": "markdown",
   "metadata": {},
   "source": [
    "**`Cleaning of the color column:`**"
   ]
  },
  {
   "cell_type": "code",
   "execution_count": 26,
   "metadata": {},
   "outputs": [
    {
     "data": {
      "text/html": [
       "<div>\n",
       "<style scoped>\n",
       "    .dataframe tbody tr th:only-of-type {\n",
       "        vertical-align: middle;\n",
       "    }\n",
       "\n",
       "    .dataframe tbody tr th {\n",
       "        vertical-align: top;\n",
       "    }\n",
       "\n",
       "    .dataframe thead th {\n",
       "        text-align: right;\n",
       "    }\n",
       "</style>\n",
       "<table border=\"1\" class=\"dataframe\">\n",
       "  <thead>\n",
       "    <tr style=\"text-align: right;\">\n",
       "      <th></th>\n",
       "      <th>Temperature (K)</th>\n",
       "      <th>Luminosity(L/Lo)</th>\n",
       "      <th>Radius(R/Ro)</th>\n",
       "      <th>Absolute magnitude(Mv)</th>\n",
       "      <th>Star type</th>\n",
       "      <th>Star color</th>\n",
       "      <th>Spectral Class</th>\n",
       "    </tr>\n",
       "  </thead>\n",
       "  <tbody>\n",
       "    <tr>\n",
       "      <th>131</th>\n",
       "      <td>3607</td>\n",
       "      <td>0.00023</td>\n",
       "      <td>0.380</td>\n",
       "      <td>10.34</td>\n",
       "      <td>1</td>\n",
       "      <td>Red</td>\n",
       "      <td>M</td>\n",
       "    </tr>\n",
       "    <tr>\n",
       "      <th>169</th>\n",
       "      <td>9373</td>\n",
       "      <td>424520.00000</td>\n",
       "      <td>24.000</td>\n",
       "      <td>-5.99</td>\n",
       "      <td>4</td>\n",
       "      <td>Blue</td>\n",
       "      <td>O</td>\n",
       "    </tr>\n",
       "    <tr>\n",
       "      <th>210</th>\n",
       "      <td>22350</td>\n",
       "      <td>12450.00000</td>\n",
       "      <td>6.360</td>\n",
       "      <td>-3.67</td>\n",
       "      <td>3</td>\n",
       "      <td>Blue-white</td>\n",
       "      <td>B</td>\n",
       "    </tr>\n",
       "    <tr>\n",
       "      <th>125</th>\n",
       "      <td>3225</td>\n",
       "      <td>0.00076</td>\n",
       "      <td>0.121</td>\n",
       "      <td>19.63</td>\n",
       "      <td>0</td>\n",
       "      <td>Red</td>\n",
       "      <td>M</td>\n",
       "    </tr>\n",
       "    <tr>\n",
       "      <th>111</th>\n",
       "      <td>3605</td>\n",
       "      <td>126000.00000</td>\n",
       "      <td>1124.000</td>\n",
       "      <td>-10.81</td>\n",
       "      <td>5</td>\n",
       "      <td>Red</td>\n",
       "      <td>M</td>\n",
       "    </tr>\n",
       "    <tr>\n",
       "      <th>179</th>\n",
       "      <td>24490</td>\n",
       "      <td>248490.00000</td>\n",
       "      <td>1134.500</td>\n",
       "      <td>-8.24</td>\n",
       "      <td>5</td>\n",
       "      <td>Blue-white</td>\n",
       "      <td>B</td>\n",
       "    </tr>\n",
       "    <tr>\n",
       "      <th>137</th>\n",
       "      <td>3598</td>\n",
       "      <td>0.00110</td>\n",
       "      <td>0.560</td>\n",
       "      <td>14.26</td>\n",
       "      <td>1</td>\n",
       "      <td>Red</td>\n",
       "      <td>M</td>\n",
       "    </tr>\n",
       "    <tr>\n",
       "      <th>153</th>\n",
       "      <td>16390</td>\n",
       "      <td>1278.00000</td>\n",
       "      <td>5.680</td>\n",
       "      <td>-3.32</td>\n",
       "      <td>3</td>\n",
       "      <td>Blue-white</td>\n",
       "      <td>B</td>\n",
       "    </tr>\n",
       "    <tr>\n",
       "      <th>132</th>\n",
       "      <td>3100</td>\n",
       "      <td>0.00800</td>\n",
       "      <td>0.310</td>\n",
       "      <td>11.17</td>\n",
       "      <td>1</td>\n",
       "      <td>Red</td>\n",
       "      <td>M</td>\n",
       "    </tr>\n",
       "    <tr>\n",
       "      <th>72</th>\n",
       "      <td>3304</td>\n",
       "      <td>0.00850</td>\n",
       "      <td>0.180</td>\n",
       "      <td>13.20</td>\n",
       "      <td>1</td>\n",
       "      <td>Red</td>\n",
       "      <td>M</td>\n",
       "    </tr>\n",
       "  </tbody>\n",
       "</table>\n",
       "</div>"
      ],
      "text/plain": [
       "     Temperature (K)  Luminosity(L/Lo)  Radius(R/Ro)  Absolute magnitude(Mv)  \\\n",
       "131             3607           0.00023         0.380                   10.34   \n",
       "169             9373      424520.00000        24.000                   -5.99   \n",
       "210            22350       12450.00000         6.360                   -3.67   \n",
       "125             3225           0.00076         0.121                   19.63   \n",
       "111             3605      126000.00000      1124.000                  -10.81   \n",
       "179            24490      248490.00000      1134.500                   -8.24   \n",
       "137             3598           0.00110         0.560                   14.26   \n",
       "153            16390        1278.00000         5.680                   -3.32   \n",
       "132             3100           0.00800         0.310                   11.17   \n",
       "72              3304           0.00850         0.180                   13.20   \n",
       "\n",
       "     Star type  Star color Spectral Class  \n",
       "131          1         Red              M  \n",
       "169          4        Blue              O  \n",
       "210          3  Blue-white              B  \n",
       "125          0         Red              M  \n",
       "111          5         Red              M  \n",
       "179          5  Blue-white              B  \n",
       "137          1         Red              M  \n",
       "153          3  Blue-white              B  \n",
       "132          1         Red              M  \n",
       "72           1         Red              M  "
      ]
     },
     "execution_count": 26,
     "metadata": {},
     "output_type": "execute_result"
    }
   ],
   "source": [
    "import pandas as pd\n",
    "stars = pd.read_csv('stars.csv')\n",
    "stars.sample(n=10)"
   ]
  },
  {
   "cell_type": "code",
   "execution_count": 27,
   "metadata": {},
   "outputs": [
    {
     "data": {
      "text/plain": [
       "Star color\n",
       "Red                   112\n",
       "Blue                   55\n",
       "Blue-white             26\n",
       "Blue White             10\n",
       "yellow-white            8\n",
       "White                   7\n",
       "Blue white              3\n",
       "Yellowish White         3\n",
       "white                   3\n",
       "Whitish                 2\n",
       "Orange                  2\n",
       "yellowish               2\n",
       "Pale yellow orange      1\n",
       "White-Yellow            1\n",
       "Blue                    1\n",
       "Yellowish               1\n",
       "Orange-Red              1\n",
       "Blue white              1\n",
       "Blue-White              1\n",
       "Name: count, dtype: int64"
      ]
     },
     "execution_count": 27,
     "metadata": {},
     "output_type": "execute_result"
    }
   ],
   "source": [
    "stars['Star color'].value_counts()"
   ]
  },
  {
   "cell_type": "code",
   "execution_count": 28,
   "metadata": {},
   "outputs": [
    {
     "data": {
      "text/plain": [
       "array(['Red', 'Blue white', 'White', 'Yellowish white',\n",
       "       'Pale yellow orange', 'Blue', 'Whitish', 'Orange', 'White yellow',\n",
       "       'Blue ', 'Yellowish', 'Orange red', 'Blue white '], dtype=object)"
      ]
     },
     "execution_count": 28,
     "metadata": {},
     "output_type": "execute_result"
    }
   ],
   "source": [
    "replace_color_dict = {\n",
    "  'Blue-white': 'Blue white',\n",
    "  'Blue White': 'Blue white',\n",
    "  'yellow-white': 'Yellowish white',\n",
    "  'Yellowish White': 'Yellowish white',\n",
    "  'white': 'White',\n",
    "  'yellowish': 'Yellowish',\n",
    "  'White-Yellow': 'White yellow',\n",
    "  'Orange-Red': 'Orange red',\n",
    "  'Blue-White': 'Blue white'\n",
    "}\n",
    "stars['Star color'] = stars['Star color'].replace(replace_color_dict)\n",
    "stars['Star color'].unique()"
   ]
  },
  {
   "cell_type": "markdown",
   "metadata": {},
   "source": [
    "**`Star type names`**"
   ]
  },
  {
   "cell_type": "code",
   "execution_count": 29,
   "metadata": {},
   "outputs": [
    {
     "data": {
      "text/plain": [
       "array([0, 1, 2, 3, 4, 5])"
      ]
     },
     "execution_count": 29,
     "metadata": {},
     "output_type": "execute_result"
    }
   ],
   "source": [
    "stars['Star type'].unique()"
   ]
  },
  {
   "cell_type": "code",
   "execution_count": 30,
   "metadata": {},
   "outputs": [
    {
     "data": {
      "text/plain": [
       "array(['Red Dwarf', 'Brown Dwarf', 'White Dwarf', 'Main Sequence',\n",
       "       'Super Giants', 'Hyper Giants'], dtype=object)"
      ]
     },
     "execution_count": 30,
     "metadata": {},
     "output_type": "execute_result"
    }
   ],
   "source": [
    "replace_type_dict = {\n",
    "  0: 'Red Dwarf',\n",
    "  1: 'Brown Dwarf',\n",
    "  2: 'White Dwarf',\n",
    "  3: 'Main Sequence',\n",
    "  4: 'Super Giants',\n",
    "  5: 'Hyper Giants'\n",
    "}\n",
    "stars['Star type names'] = stars['Star type'].replace(replace_type_dict)\n",
    "stars['Star type names'].unique()"
   ]
  },
  {
   "cell_type": "code",
   "execution_count": 33,
   "metadata": {},
   "outputs": [
    {
     "data": {
      "text/html": [
       "<div>\n",
       "<style scoped>\n",
       "    .dataframe tbody tr th:only-of-type {\n",
       "        vertical-align: middle;\n",
       "    }\n",
       "\n",
       "    .dataframe tbody tr th {\n",
       "        vertical-align: top;\n",
       "    }\n",
       "\n",
       "    .dataframe thead th {\n",
       "        text-align: right;\n",
       "    }\n",
       "</style>\n",
       "<table border=\"1\" class=\"dataframe\">\n",
       "  <thead>\n",
       "    <tr style=\"text-align: right;\">\n",
       "      <th></th>\n",
       "      <th>Temperature (K)</th>\n",
       "      <th>Luminosity(L/Lo)</th>\n",
       "      <th>Radius(R/Ro)</th>\n",
       "      <th>Absolute magnitude(Mv)</th>\n",
       "      <th>Star type</th>\n",
       "      <th>Star color</th>\n",
       "      <th>Spectral Class</th>\n",
       "      <th>Star type names</th>\n",
       "    </tr>\n",
       "  </thead>\n",
       "  <tbody>\n",
       "    <tr>\n",
       "      <th>221</th>\n",
       "      <td>12749</td>\n",
       "      <td>332520.00000</td>\n",
       "      <td>76.000</td>\n",
       "      <td>-7.02</td>\n",
       "      <td>4</td>\n",
       "      <td>Blue</td>\n",
       "      <td>O</td>\n",
       "      <td>Super Giants</td>\n",
       "    </tr>\n",
       "    <tr>\n",
       "      <th>30</th>\n",
       "      <td>39000</td>\n",
       "      <td>204000.00000</td>\n",
       "      <td>10.600</td>\n",
       "      <td>-4.70</td>\n",
       "      <td>3</td>\n",
       "      <td>Blue</td>\n",
       "      <td>O</td>\n",
       "      <td>Main Sequence</td>\n",
       "    </tr>\n",
       "    <tr>\n",
       "      <th>0</th>\n",
       "      <td>3068</td>\n",
       "      <td>0.00240</td>\n",
       "      <td>0.170</td>\n",
       "      <td>16.12</td>\n",
       "      <td>0</td>\n",
       "      <td>Red</td>\n",
       "      <td>M</td>\n",
       "      <td>Red Dwarf</td>\n",
       "    </tr>\n",
       "    <tr>\n",
       "      <th>178</th>\n",
       "      <td>12100</td>\n",
       "      <td>120000.00000</td>\n",
       "      <td>708.900</td>\n",
       "      <td>-7.84</td>\n",
       "      <td>5</td>\n",
       "      <td>Blue white</td>\n",
       "      <td>B</td>\n",
       "      <td>Hyper Giants</td>\n",
       "    </tr>\n",
       "    <tr>\n",
       "      <th>8</th>\n",
       "      <td>2650</td>\n",
       "      <td>0.00069</td>\n",
       "      <td>0.110</td>\n",
       "      <td>17.45</td>\n",
       "      <td>0</td>\n",
       "      <td>Red</td>\n",
       "      <td>M</td>\n",
       "      <td>Red Dwarf</td>\n",
       "    </tr>\n",
       "    <tr>\n",
       "      <th>237</th>\n",
       "      <td>8829</td>\n",
       "      <td>537493.00000</td>\n",
       "      <td>1423.000</td>\n",
       "      <td>-10.73</td>\n",
       "      <td>5</td>\n",
       "      <td>White</td>\n",
       "      <td>A</td>\n",
       "      <td>Hyper Giants</td>\n",
       "    </tr>\n",
       "    <tr>\n",
       "      <th>212</th>\n",
       "      <td>13089</td>\n",
       "      <td>788.00000</td>\n",
       "      <td>5.992</td>\n",
       "      <td>-0.12</td>\n",
       "      <td>3</td>\n",
       "      <td>Blue white</td>\n",
       "      <td>A</td>\n",
       "      <td>Main Sequence</td>\n",
       "    </tr>\n",
       "    <tr>\n",
       "      <th>225</th>\n",
       "      <td>18734</td>\n",
       "      <td>224780.00000</td>\n",
       "      <td>46.000</td>\n",
       "      <td>-7.45</td>\n",
       "      <td>4</td>\n",
       "      <td>Blue</td>\n",
       "      <td>O</td>\n",
       "      <td>Super Giants</td>\n",
       "    </tr>\n",
       "    <tr>\n",
       "      <th>198</th>\n",
       "      <td>3324</td>\n",
       "      <td>0.00650</td>\n",
       "      <td>0.471</td>\n",
       "      <td>12.78</td>\n",
       "      <td>1</td>\n",
       "      <td>Red</td>\n",
       "      <td>M</td>\n",
       "      <td>Brown Dwarf</td>\n",
       "    </tr>\n",
       "    <tr>\n",
       "      <th>239</th>\n",
       "      <td>37882</td>\n",
       "      <td>294903.00000</td>\n",
       "      <td>1783.000</td>\n",
       "      <td>-7.80</td>\n",
       "      <td>5</td>\n",
       "      <td>Blue</td>\n",
       "      <td>O</td>\n",
       "      <td>Hyper Giants</td>\n",
       "    </tr>\n",
       "  </tbody>\n",
       "</table>\n",
       "</div>"
      ],
      "text/plain": [
       "     Temperature (K)  Luminosity(L/Lo)  Radius(R/Ro)  Absolute magnitude(Mv)  \\\n",
       "221            12749      332520.00000        76.000                   -7.02   \n",
       "30             39000      204000.00000        10.600                   -4.70   \n",
       "0               3068           0.00240         0.170                   16.12   \n",
       "178            12100      120000.00000       708.900                   -7.84   \n",
       "8               2650           0.00069         0.110                   17.45   \n",
       "237             8829      537493.00000      1423.000                  -10.73   \n",
       "212            13089         788.00000         5.992                   -0.12   \n",
       "225            18734      224780.00000        46.000                   -7.45   \n",
       "198             3324           0.00650         0.471                   12.78   \n",
       "239            37882      294903.00000      1783.000                   -7.80   \n",
       "\n",
       "     Star type  Star color Spectral Class Star type names  \n",
       "221          4        Blue              O    Super Giants  \n",
       "30           3        Blue              O   Main Sequence  \n",
       "0            0         Red              M       Red Dwarf  \n",
       "178          5  Blue white              B    Hyper Giants  \n",
       "8            0         Red              M       Red Dwarf  \n",
       "237          5       White              A    Hyper Giants  \n",
       "212          3  Blue white              A   Main Sequence  \n",
       "225          4        Blue              O    Super Giants  \n",
       "198          1         Red              M     Brown Dwarf  \n",
       "239          5        Blue              O    Hyper Giants  "
      ]
     },
     "execution_count": 33,
     "metadata": {},
     "output_type": "execute_result"
    }
   ],
   "source": [
    "stars.sample(n=10)"
   ]
  },
  {
   "cell_type": "code",
   "execution_count": null,
   "metadata": {},
   "outputs": [],
   "source": []
  }
 ],
 "metadata": {
  "kernelspec": {
   "display_name": "Python 3 (ipykernel)",
   "language": "python",
   "name": "python3"
  },
  "language_info": {
   "codemirror_mode": {
    "name": "ipython",
    "version": 3
   },
   "file_extension": ".py",
   "mimetype": "text/x-python",
   "name": "python",
   "nbconvert_exporter": "python",
   "pygments_lexer": "ipython3",
   "version": "3.12.4"
  },
  "vscode": {
   "interpreter": {
    "hash": "aee8b7b246df8f9039afb4144a1f6fd8d2ca17a180786b69acc140d282b71a49"
   }
  }
 },
 "nbformat": 4,
 "nbformat_minor": 4
}
