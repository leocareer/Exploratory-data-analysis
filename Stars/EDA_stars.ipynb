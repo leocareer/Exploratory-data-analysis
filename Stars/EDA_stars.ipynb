{
 "cells": [
  {
   "cell_type": "markdown",
   "metadata": {},
   "source": [
    "# Stars"
   ]
  },
  {
   "cell_type": "markdown",
   "metadata": {},
   "source": [
    "The file stars.csv contains information about 240 stars.\n",
    "\n",
    "- Temperature (K) — the temperature in Kelvin;\n",
    "- Luminosity (L/Lo) — the luminosity of the star relative to the solar luminosity L = 3.828 * 10^26 (W);\n",
    "- Radius (R/Ro) — the radius of the star relative to the radius of the sun R = 6.9551 * 10^8 (m);\n",
    "-  Absolute magnitude (Mv) — the absolute magnitude of the star;\n",
    "-  Star color — the color of the star;\n",
    "-  Star type — the type of star, represented by a number from 0 to 5, where:\n",
    "\t- 0 — Red Dwarf,\n",
    "\t- 1 — Brown Dwarf,\n",
    "\t- 2 — White Dwarf,\n",
    "\t- 3 — Main Sequence,\n",
    "\t- 4 — Super Giants,\n",
    "\t- 5 — Hyper Giants;\n",
    "-  Spectral Class — the spectral class of the star (one of O, B, A, F, G, K, or M)."
   ]
  },
  {
   "cell_type": "markdown",
   "metadata": {},
   "source": [
    "I took the task here: [fadeevlecturer.github.io](https://fadeevlecturer.github.io/python_lectures/docs/index.html)"
   ]
  },
  {
   "cell_type": "markdown",
   "metadata": {},
   "source": [
    "Task:\n",
    "\n",
    "1. **Clean the color column:** standardize the values in this column so that variations like 'Blue white', 'Blue White', and 'Blue-white' are treated as the same;\n",
    "2. **Star type names:** create a new column where the star type is represented as a full string instead of a number;\n",
    "3. **Convert spectral class to numbers:** add a new column where the spectral class is represented by numbers, using the following mapping:\n",
    "\t- O → 0,\n",
    "\t- B → 1,\n",
    "\t- A → 2,\n",
    "\t- F → 3,\n",
    "\t- G → 4,\n",
    "\t- K → 5,\n",
    "\t- M → 6;\n",
    "4. **Count the number of stars:** for each star color, star type, and spectral class, calculate the number of stars;\n",
    "5. **Star type analysis:** for each star type, find the minimum, average, and maximum values of the absolute magnitude;\n",
    "6. **Spectral class analysis:** for each spectral class, find the minimum, average, and maximum values of the temperature;\n",
    "7. **Correlation analysis:** compute pairwise correlations between all numerical columns.\n"
   ]
  }
 ],
 "metadata": {
  "kernelspec": {
   "display_name": "Python 3 (ipykernel)",
   "language": "python",
   "name": "python3"
  },
  "language_info": {
   "codemirror_mode": {
    "name": "ipython",
    "version": 3
   },
   "file_extension": ".py",
   "mimetype": "text/x-python",
   "name": "python",
   "nbconvert_exporter": "python",
   "pygments_lexer": "ipython3",
   "version": "3.12.4"
  },
  "vscode": {
   "interpreter": {
    "hash": "aee8b7b246df8f9039afb4144a1f6fd8d2ca17a180786b69acc140d282b71a49"
   }
  }
 },
 "nbformat": 4,
 "nbformat_minor": 4
}
