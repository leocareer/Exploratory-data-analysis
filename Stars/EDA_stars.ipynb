{
 "cells": [
  {
   "cell_type": "markdown",
   "metadata": {},
   "source": [
    "# Stars"
   ]
  },
  {
   "cell_type": "markdown",
   "metadata": {},
   "source": [
    "The file **stars.csv** contains information about 240 stars.\n",
    "\n",
    "- **Temperature (K)** — the temperature in Kelvin;\n",
    "- **Luminosity (L/Lo)** — the luminosity of the star relative to the solar luminosity L = 3.828 * 10^26 (W);\n",
    "- **Radius (R/Ro)** — the radius of the star relative to the radius of the sun R = 6.9551 * 10^8 (m);\n",
    "- **Absolute magnitude (Mv)** — the absolute magnitude of the star;\n",
    "- **Star color** — the color of the star;\n",
    "- **Star type** — the type of star, represented by a number from 0 to 5, where:\n",
    "\t- 0 — Red Dwarf,\n",
    "\t- 1 — Brown Dwarf,\n",
    "\t- 2 — White Dwarf,\n",
    "\t- 3 — Main Sequence,\n",
    "\t- 4 — Super Giants,\n",
    "\t- 5 — Hyper Giants;\n",
    "- **Spectral Class** — the spectral class of the star (one of O, B, A, F, G, K, or M)."
   ]
  },
  {
   "cell_type": "markdown",
   "metadata": {},
   "source": [
    "I took the task here: [fadeevlecturer.github.io](https://fadeevlecturer.github.io/python_lectures/docs/index.html)"
   ]
  },
  {
   "cell_type": "markdown",
   "metadata": {},
   "source": [
    "**`Task:`**\n",
    "\n",
    "1. **Clean the color column:** standardize the values in this column so that variations like 'Blue white', 'Blue White', and 'Blue-white' are treated as the same;\n",
    "2. **Star type names:** create a new column where the star type is represented as a full string instead of a number;\n",
    "3. **Convert spectral class to numbers:** add a new column where the spectral class is represented by numbers, using the following mapping:\n",
    "\t- O → 0,\n",
    "\t- B → 1,\n",
    "\t- A → 2,\n",
    "\t- F → 3,\n",
    "\t- G → 4,\n",
    "\t- K → 5,\n",
    "\t- M → 6;\n",
    "4. **Count the number of stars:** for each star color, star type, and spectral class, calculate the number of stars;\n",
    "5. **Star type analysis:** for each star type, find the minimum, average, and maximum values of the absolute magnitude;\n",
    "6. **Spectral class analysis:** for each spectral class, find the minimum, average, and maximum values of the temperature;\n",
    "7. **Correlation analysis:** compute pairwise correlations between all numerical columns.\n"
   ]
  },
  {
   "cell_type": "markdown",
   "metadata": {},
   "source": [
    "**`1. Cleaning of the color column:`**"
   ]
  },
  {
   "cell_type": "code",
   "execution_count": 4,
   "metadata": {},
   "outputs": [
    {
     "data": {
      "text/html": [
       "<div>\n",
       "<style scoped>\n",
       "    .dataframe tbody tr th:only-of-type {\n",
       "        vertical-align: middle;\n",
       "    }\n",
       "\n",
       "    .dataframe tbody tr th {\n",
       "        vertical-align: top;\n",
       "    }\n",
       "\n",
       "    .dataframe thead th {\n",
       "        text-align: right;\n",
       "    }\n",
       "</style>\n",
       "<table border=\"1\" class=\"dataframe\">\n",
       "  <thead>\n",
       "    <tr style=\"text-align: right;\">\n",
       "      <th></th>\n",
       "      <th>Temperature (K)</th>\n",
       "      <th>Luminosity(L/Lo)</th>\n",
       "      <th>Radius(R/Ro)</th>\n",
       "      <th>Absolute magnitude(Mv)</th>\n",
       "      <th>Star type</th>\n",
       "      <th>Star color</th>\n",
       "      <th>Spectral Class</th>\n",
       "    </tr>\n",
       "  </thead>\n",
       "  <tbody>\n",
       "    <tr>\n",
       "      <th>165</th>\n",
       "      <td>7282</td>\n",
       "      <td>131000.00000</td>\n",
       "      <td>24.0000</td>\n",
       "      <td>-7.220</td>\n",
       "      <td>4</td>\n",
       "      <td>Blue</td>\n",
       "      <td>O</td>\n",
       "    </tr>\n",
       "    <tr>\n",
       "      <th>223</th>\n",
       "      <td>23440</td>\n",
       "      <td>537430.00000</td>\n",
       "      <td>81.0000</td>\n",
       "      <td>-5.975</td>\n",
       "      <td>4</td>\n",
       "      <td>Blue</td>\n",
       "      <td>O</td>\n",
       "    </tr>\n",
       "    <tr>\n",
       "      <th>114</th>\n",
       "      <td>3610</td>\n",
       "      <td>132000.00000</td>\n",
       "      <td>1522.0000</td>\n",
       "      <td>-10.860</td>\n",
       "      <td>5</td>\n",
       "      <td>Red</td>\n",
       "      <td>M</td>\n",
       "    </tr>\n",
       "    <tr>\n",
       "      <th>134</th>\n",
       "      <td>3542</td>\n",
       "      <td>0.00090</td>\n",
       "      <td>0.6200</td>\n",
       "      <td>14.230</td>\n",
       "      <td>1</td>\n",
       "      <td>Red</td>\n",
       "      <td>M</td>\n",
       "    </tr>\n",
       "    <tr>\n",
       "      <th>116</th>\n",
       "      <td>4015</td>\n",
       "      <td>282000.00000</td>\n",
       "      <td>1534.0000</td>\n",
       "      <td>-11.390</td>\n",
       "      <td>5</td>\n",
       "      <td>Red</td>\n",
       "      <td>K</td>\n",
       "    </tr>\n",
       "    <tr>\n",
       "      <th>69</th>\n",
       "      <td>2871</td>\n",
       "      <td>0.00072</td>\n",
       "      <td>0.1200</td>\n",
       "      <td>19.430</td>\n",
       "      <td>0</td>\n",
       "      <td>Red</td>\n",
       "      <td>M</td>\n",
       "    </tr>\n",
       "    <tr>\n",
       "      <th>1</th>\n",
       "      <td>3042</td>\n",
       "      <td>0.00050</td>\n",
       "      <td>0.1542</td>\n",
       "      <td>16.600</td>\n",
       "      <td>0</td>\n",
       "      <td>Red</td>\n",
       "      <td>M</td>\n",
       "    </tr>\n",
       "    <tr>\n",
       "      <th>59</th>\n",
       "      <td>3535</td>\n",
       "      <td>195000.00000</td>\n",
       "      <td>1546.0000</td>\n",
       "      <td>-11.360</td>\n",
       "      <td>5</td>\n",
       "      <td>Red</td>\n",
       "      <td>M</td>\n",
       "    </tr>\n",
       "    <tr>\n",
       "      <th>141</th>\n",
       "      <td>21020</td>\n",
       "      <td>0.00150</td>\n",
       "      <td>0.0112</td>\n",
       "      <td>11.520</td>\n",
       "      <td>2</td>\n",
       "      <td>Blue</td>\n",
       "      <td>B</td>\n",
       "    </tr>\n",
       "    <tr>\n",
       "      <th>58</th>\n",
       "      <td>3752</td>\n",
       "      <td>209000.00000</td>\n",
       "      <td>955.0000</td>\n",
       "      <td>-11.240</td>\n",
       "      <td>5</td>\n",
       "      <td>Red</td>\n",
       "      <td>M</td>\n",
       "    </tr>\n",
       "  </tbody>\n",
       "</table>\n",
       "</div>"
      ],
      "text/plain": [
       "     Temperature (K)  Luminosity(L/Lo)  Radius(R/Ro)  Absolute magnitude(Mv)  \\\n",
       "165             7282      131000.00000       24.0000                  -7.220   \n",
       "223            23440      537430.00000       81.0000                  -5.975   \n",
       "114             3610      132000.00000     1522.0000                 -10.860   \n",
       "134             3542           0.00090        0.6200                  14.230   \n",
       "116             4015      282000.00000     1534.0000                 -11.390   \n",
       "69              2871           0.00072        0.1200                  19.430   \n",
       "1               3042           0.00050        0.1542                  16.600   \n",
       "59              3535      195000.00000     1546.0000                 -11.360   \n",
       "141            21020           0.00150        0.0112                  11.520   \n",
       "58              3752      209000.00000      955.0000                 -11.240   \n",
       "\n",
       "     Star type Star color Spectral Class  \n",
       "165          4       Blue              O  \n",
       "223          4       Blue              O  \n",
       "114          5        Red              M  \n",
       "134          1        Red              M  \n",
       "116          5        Red              K  \n",
       "69           0        Red              M  \n",
       "1            0        Red              M  \n",
       "59           5        Red              M  \n",
       "141          2       Blue              B  \n",
       "58           5        Red              M  "
      ]
     },
     "execution_count": 4,
     "metadata": {},
     "output_type": "execute_result"
    }
   ],
   "source": [
    "import pandas as pd\n",
    "stars = pd.read_csv('stars.csv')\n",
    "stars.sample(n=10)"
   ]
  },
  {
   "cell_type": "code",
   "execution_count": 7,
   "metadata": {},
   "outputs": [
    {
     "data": {
      "text/plain": [
       "Star color\n",
       "Red                   112\n",
       "Blue                   55\n",
       "Blue-white             26\n",
       "Blue White             10\n",
       "yellow-white            8\n",
       "White                   7\n",
       "Blue white              3\n",
       "Yellowish White         3\n",
       "white                   3\n",
       "Whitish                 2\n",
       "Orange                  2\n",
       "yellowish               2\n",
       "Pale yellow orange      1\n",
       "White-Yellow            1\n",
       "Blue                    1\n",
       "Yellowish               1\n",
       "Orange-Red              1\n",
       "Blue white              1\n",
       "Blue-White              1\n",
       "Name: count, dtype: int64"
      ]
     },
     "execution_count": 7,
     "metadata": {},
     "output_type": "execute_result"
    }
   ],
   "source": [
    "stars['Star color'].value_counts()"
   ]
  },
  {
   "cell_type": "code",
   "execution_count": 8,
   "metadata": {},
   "outputs": [
    {
     "data": {
      "text/plain": [
       "array(['Red', 'Blue white', 'White', 'Yellowish white',\n",
       "       'Pale yellow orange', 'Blue', 'Whitish', 'Orange', 'White yellow',\n",
       "       'Blue ', 'Yellowish', 'Orange red', 'Blue white '], dtype=object)"
      ]
     },
     "execution_count": 8,
     "metadata": {},
     "output_type": "execute_result"
    }
   ],
   "source": [
    "replace_color_dict = {\n",
    "  'Blue-white': 'Blue white',\n",
    "  'Blue White': 'Blue white',\n",
    "  'yellow-white': 'Yellowish white',\n",
    "  'Yellowish White': 'Yellowish white',\n",
    "  'white': 'White',\n",
    "  'yellowish': 'Yellowish',\n",
    "  'White-Yellow': 'White yellow',\n",
    "  'Orange-Red': 'Orange red',\n",
    "  'Blue-White': 'Blue white'\n",
    "}\n",
    "stars['Star color'] = stars['Star color'].replace(replace_color_dict)\n",
    "stars['Star color'].unique()"
   ]
  }
 ],
 "metadata": {
  "kernelspec": {
   "display_name": "Python 3 (ipykernel)",
   "language": "python",
   "name": "python3"
  },
  "language_info": {
   "codemirror_mode": {
    "name": "ipython",
    "version": 3
   },
   "file_extension": ".py",
   "mimetype": "text/x-python",
   "name": "python",
   "nbconvert_exporter": "python",
   "pygments_lexer": "ipython3",
   "version": "3.12.4"
  },
  "vscode": {
   "interpreter": {
    "hash": "aee8b7b246df8f9039afb4144a1f6fd8d2ca17a180786b69acc140d282b71a49"
   }
  }
 },
 "nbformat": 4,
 "nbformat_minor": 4
}
