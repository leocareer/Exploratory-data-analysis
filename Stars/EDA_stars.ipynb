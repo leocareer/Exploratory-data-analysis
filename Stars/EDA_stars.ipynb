{
 "cells": [
  {
   "cell_type": "markdown",
   "metadata": {},
   "source": [
    "# Stars"
   ]
  },
  {
   "cell_type": "markdown",
   "metadata": {},
   "source": [
    "The file **stars.csv** contains information about 240 stars.\n",
    "\n",
    "- **Temperature (K)** — the temperature in Kelvin;\n",
    "- **Luminosity (L/Lo)** — the luminosity of the star relative to the solar luminosity L = 3.828 * 10^26 (W);\n",
    "- **Radius (R/Ro)** — the radius of the star relative to the radius of the sun R = 6.9551 * 10^8 (m);\n",
    "- **Absolute magnitude (Mv)** — the absolute magnitude of the star;\n",
    "- **Star color** — the color of the star;\n",
    "- **Star type** — the type of star, represented by a number from 0 to 5, where:\n",
    "\t- 0 — Red Dwarf,\n",
    "\t- 1 — Brown Dwarf,\n",
    "\t- 2 — White Dwarf,\n",
    "\t- 3 — Main Sequence,\n",
    "\t- 4 — Super Giants,\n",
    "\t- 5 — Hyper Giants;\n",
    "- **Spectral Class** — the spectral class of the star (one of O, B, A, F, G, K, or M)."
   ]
  },
  {
   "cell_type": "markdown",
   "metadata": {},
   "source": [
    "I took the task here: [fadeevlecturer.github.io](https://fadeevlecturer.github.io/python_lectures/docs/index.html)"
   ]
  },
  {
   "cell_type": "markdown",
   "metadata": {},
   "source": [
    "**`Task:`**\n",
    "\n",
    "1. **Clean the color column:** standardize the values in this column so that variations like 'Blue white', 'Blue White', and 'Blue-white' are treated as the same;\n",
    "2. **Star type names:** create a new column where the star type is represented as a full string instead of a number;\n",
    "3. **Convert spectral class to numbers:** add a new column where the spectral class is represented by numbers, using the following mapping:\n",
    "\t- O → 0,\n",
    "\t- B → 1,\n",
    "\t- A → 2,\n",
    "\t- F → 3,\n",
    "\t- G → 4,\n",
    "\t- K → 5,\n",
    "\t- M → 6;\n",
    "4. **Count the number of stars:** for each star color, star type, and spectral class, calculate the number of stars;\n",
    "5. **Star type analysis:** for each star type, find the minimum, average, and maximum values of the absolute magnitude;\n",
    "6. **Spectral class analysis:** for each spectral class, find the minimum, average, and maximum values of the temperature;\n",
    "7. **Correlation analysis:** compute pairwise correlations between all numerical columns.\n"
   ]
  },
  {
   "cell_type": "markdown",
   "metadata": {},
   "source": [
    "**`Cleaning of the color column:`**"
   ]
  },
  {
   "cell_type": "code",
   "execution_count": 1,
   "metadata": {},
   "outputs": [
    {
     "name": "stdout",
     "output_type": "stream",
     "text": [
      "<class 'pandas.core.frame.DataFrame'>\n",
      "RangeIndex: 240 entries, 0 to 239\n",
      "Data columns (total 7 columns):\n",
      " #   Column                  Non-Null Count  Dtype  \n",
      "---  ------                  --------------  -----  \n",
      " 0   Temperature (K)         240 non-null    int64  \n",
      " 1   Luminosity(L/Lo)        240 non-null    float64\n",
      " 2   Radius(R/Ro)            240 non-null    float64\n",
      " 3   Absolute magnitude(Mv)  240 non-null    float64\n",
      " 4   Star type               240 non-null    int64  \n",
      " 5   Star color              240 non-null    object \n",
      " 6   Spectral Class          240 non-null    object \n",
      "dtypes: float64(3), int64(2), object(2)\n",
      "memory usage: 13.3+ KB\n"
     ]
    }
   ],
   "source": [
    "import pandas as pd\n",
    "stars = pd.read_csv('stars.csv')\n",
    "stars.sample(n=10)\n",
    "stars.info()"
   ]
  },
  {
   "cell_type": "code",
   "execution_count": 2,
   "metadata": {},
   "outputs": [
    {
     "name": "stdout",
     "output_type": "stream",
     "text": [
      "Blue\n",
      "Blue \n",
      "Blue White\n",
      "Blue white\n",
      "Blue white \n",
      "Blue-White\n",
      "Blue-white\n",
      "Orange\n",
      "Orange-Red\n",
      "Pale yellow orange\n",
      "Red\n",
      "White\n",
      "White-Yellow\n",
      "Whitish\n",
      "Yellowish\n",
      "Yellowish White\n",
      "white\n",
      "yellow-white\n",
      "yellowish\n"
     ]
    }
   ],
   "source": [
    "for value in sorted(stars['Star color'].unique()):\n",
    "  print(value)"
   ]
  },
  {
   "cell_type": "code",
   "execution_count": 3,
   "metadata": {},
   "outputs": [
    {
     "name": "stdout",
     "output_type": "stream",
     "text": [
      "Blue\n",
      "Blue White\n",
      "Blue white\n",
      "Blue-White\n",
      "Blue-white\n",
      "Orange\n",
      "Orange-Red\n",
      "Pale yellow orange\n",
      "Red\n",
      "White\n",
      "White-Yellow\n",
      "Whitish\n",
      "Yellowish\n",
      "Yellowish White\n",
      "white\n",
      "yellow-white\n",
      "yellowish\n"
     ]
    }
   ],
   "source": [
    "stars['Star color'] = stars['Star color'].str.strip()\n",
    "for value in sorted(stars['Star color'].unique()):\n",
    "  print(value)"
   ]
  },
  {
   "cell_type": "code",
   "execution_count": 4,
   "metadata": {},
   "outputs": [
    {
     "name": "stdout",
     "output_type": "stream",
     "text": [
      "Blue\n",
      "Blue white\n",
      "Orange\n",
      "Orange red\n",
      "Pale yellow orange\n",
      "Red\n",
      "White\n",
      "White yellow\n",
      "Whitish\n",
      "Yellowish\n",
      "Yellowish white\n"
     ]
    }
   ],
   "source": [
    "replace_color_dict = {\n",
    "  'Blue-white': 'Blue white',\n",
    "  'Blue White': 'Blue white',\n",
    "  'yellow-white': 'Yellowish white',\n",
    "  'Yellowish White': 'Yellowish white',\n",
    "  'white': 'White',\n",
    "  'yellowish': 'Yellowish',\n",
    "  'White-Yellow': 'White yellow',\n",
    "  'Orange-Red': 'Orange red',\n",
    "  'Blue-White': 'Blue white'\n",
    "}\n",
    "stars['Star color'] = stars['Star color'].replace(replace_color_dict)\n",
    "for value in sorted(stars['Star color'].unique()):\n",
    "  print(value)"
   ]
  },
  {
   "cell_type": "markdown",
   "metadata": {},
   "source": [
    "**`Star type names`**"
   ]
  },
  {
   "cell_type": "code",
   "execution_count": 5,
   "metadata": {},
   "outputs": [
    {
     "data": {
      "text/plain": [
       "array([0, 1, 2, 3, 4, 5])"
      ]
     },
     "execution_count": 5,
     "metadata": {},
     "output_type": "execute_result"
    }
   ],
   "source": [
    "stars['Star type'].unique()"
   ]
  },
  {
   "cell_type": "code",
   "execution_count": 6,
   "metadata": {},
   "outputs": [
    {
     "data": {
      "text/plain": [
       "array(['Red Dwarf', 'Brown Dwarf', 'White Dwarf', 'Main Sequence',\n",
       "       'Super Giants', 'Hyper Giants'], dtype=object)"
      ]
     },
     "execution_count": 6,
     "metadata": {},
     "output_type": "execute_result"
    }
   ],
   "source": [
    "replace_type_dict = {\n",
    "  0: 'Red Dwarf',\n",
    "  1: 'Brown Dwarf',\n",
    "  2: 'White Dwarf',\n",
    "  3: 'Main Sequence',\n",
    "  4: 'Super Giants',\n",
    "  5: 'Hyper Giants'\n",
    "}\n",
    "stars['Star type names'] = stars['Star type'].replace(replace_type_dict)\n",
    "stars['Star type names'].unique()"
   ]
  },
  {
   "cell_type": "code",
   "execution_count": 7,
   "metadata": {},
   "outputs": [
    {
     "data": {
      "text/html": [
       "<div>\n",
       "<style scoped>\n",
       "    .dataframe tbody tr th:only-of-type {\n",
       "        vertical-align: middle;\n",
       "    }\n",
       "\n",
       "    .dataframe tbody tr th {\n",
       "        vertical-align: top;\n",
       "    }\n",
       "\n",
       "    .dataframe thead th {\n",
       "        text-align: right;\n",
       "    }\n",
       "</style>\n",
       "<table border=\"1\" class=\"dataframe\">\n",
       "  <thead>\n",
       "    <tr style=\"text-align: right;\">\n",
       "      <th></th>\n",
       "      <th>Temperature (K)</th>\n",
       "      <th>Luminosity(L/Lo)</th>\n",
       "      <th>Radius(R/Ro)</th>\n",
       "      <th>Absolute magnitude(Mv)</th>\n",
       "      <th>Star type</th>\n",
       "      <th>Star color</th>\n",
       "      <th>Spectral Class</th>\n",
       "      <th>Star type names</th>\n",
       "    </tr>\n",
       "  </thead>\n",
       "  <tbody>\n",
       "    <tr>\n",
       "      <th>223</th>\n",
       "      <td>23440</td>\n",
       "      <td>537430.00000</td>\n",
       "      <td>81.00000</td>\n",
       "      <td>-5.975</td>\n",
       "      <td>4</td>\n",
       "      <td>Blue</td>\n",
       "      <td>O</td>\n",
       "      <td>Super Giants</td>\n",
       "    </tr>\n",
       "    <tr>\n",
       "      <th>32</th>\n",
       "      <td>15276</td>\n",
       "      <td>1136.00000</td>\n",
       "      <td>7.20000</td>\n",
       "      <td>-1.970</td>\n",
       "      <td>3</td>\n",
       "      <td>Blue white</td>\n",
       "      <td>B</td>\n",
       "      <td>Main Sequence</td>\n",
       "    </tr>\n",
       "    <tr>\n",
       "      <th>239</th>\n",
       "      <td>37882</td>\n",
       "      <td>294903.00000</td>\n",
       "      <td>1783.00000</td>\n",
       "      <td>-7.800</td>\n",
       "      <td>5</td>\n",
       "      <td>Blue</td>\n",
       "      <td>O</td>\n",
       "      <td>Hyper Giants</td>\n",
       "    </tr>\n",
       "    <tr>\n",
       "      <th>85</th>\n",
       "      <td>9675</td>\n",
       "      <td>0.00045</td>\n",
       "      <td>0.01090</td>\n",
       "      <td>13.980</td>\n",
       "      <td>2</td>\n",
       "      <td>Blue white</td>\n",
       "      <td>A</td>\n",
       "      <td>White Dwarf</td>\n",
       "    </tr>\n",
       "    <tr>\n",
       "      <th>236</th>\n",
       "      <td>30839</td>\n",
       "      <td>834042.00000</td>\n",
       "      <td>1194.00000</td>\n",
       "      <td>-10.630</td>\n",
       "      <td>5</td>\n",
       "      <td>Blue</td>\n",
       "      <td>O</td>\n",
       "      <td>Hyper Giants</td>\n",
       "    </tr>\n",
       "    <tr>\n",
       "      <th>37</th>\n",
       "      <td>6380</td>\n",
       "      <td>1.35000</td>\n",
       "      <td>0.98000</td>\n",
       "      <td>2.930</td>\n",
       "      <td>3</td>\n",
       "      <td>Yellowish white</td>\n",
       "      <td>F</td>\n",
       "      <td>Main Sequence</td>\n",
       "    </tr>\n",
       "    <tr>\n",
       "      <th>237</th>\n",
       "      <td>8829</td>\n",
       "      <td>537493.00000</td>\n",
       "      <td>1423.00000</td>\n",
       "      <td>-10.730</td>\n",
       "      <td>5</td>\n",
       "      <td>White</td>\n",
       "      <td>A</td>\n",
       "      <td>Hyper Giants</td>\n",
       "    </tr>\n",
       "    <tr>\n",
       "      <th>49</th>\n",
       "      <td>33750</td>\n",
       "      <td>220000.00000</td>\n",
       "      <td>26.00000</td>\n",
       "      <td>-6.100</td>\n",
       "      <td>4</td>\n",
       "      <td>Blue</td>\n",
       "      <td>B</td>\n",
       "      <td>Super Giants</td>\n",
       "    </tr>\n",
       "    <tr>\n",
       "      <th>221</th>\n",
       "      <td>12749</td>\n",
       "      <td>332520.00000</td>\n",
       "      <td>76.00000</td>\n",
       "      <td>-7.020</td>\n",
       "      <td>4</td>\n",
       "      <td>Blue</td>\n",
       "      <td>O</td>\n",
       "      <td>Super Giants</td>\n",
       "    </tr>\n",
       "    <tr>\n",
       "      <th>88</th>\n",
       "      <td>13720</td>\n",
       "      <td>0.00018</td>\n",
       "      <td>0.00892</td>\n",
       "      <td>12.970</td>\n",
       "      <td>2</td>\n",
       "      <td>White</td>\n",
       "      <td>F</td>\n",
       "      <td>White Dwarf</td>\n",
       "    </tr>\n",
       "  </tbody>\n",
       "</table>\n",
       "</div>"
      ],
      "text/plain": [
       "     Temperature (K)  Luminosity(L/Lo)  Radius(R/Ro)  Absolute magnitude(Mv)  \\\n",
       "223            23440      537430.00000      81.00000                  -5.975   \n",
       "32             15276        1136.00000       7.20000                  -1.970   \n",
       "239            37882      294903.00000    1783.00000                  -7.800   \n",
       "85              9675           0.00045       0.01090                  13.980   \n",
       "236            30839      834042.00000    1194.00000                 -10.630   \n",
       "37              6380           1.35000       0.98000                   2.930   \n",
       "237             8829      537493.00000    1423.00000                 -10.730   \n",
       "49             33750      220000.00000      26.00000                  -6.100   \n",
       "221            12749      332520.00000      76.00000                  -7.020   \n",
       "88             13720           0.00018       0.00892                  12.970   \n",
       "\n",
       "     Star type       Star color Spectral Class Star type names  \n",
       "223          4             Blue              O    Super Giants  \n",
       "32           3       Blue white              B   Main Sequence  \n",
       "239          5             Blue              O    Hyper Giants  \n",
       "85           2       Blue white              A     White Dwarf  \n",
       "236          5             Blue              O    Hyper Giants  \n",
       "37           3  Yellowish white              F   Main Sequence  \n",
       "237          5            White              A    Hyper Giants  \n",
       "49           4             Blue              B    Super Giants  \n",
       "221          4             Blue              O    Super Giants  \n",
       "88           2            White              F     White Dwarf  "
      ]
     },
     "execution_count": 7,
     "metadata": {},
     "output_type": "execute_result"
    }
   ],
   "source": [
    "stars.sample(n=10)"
   ]
  },
  {
   "cell_type": "markdown",
   "metadata": {},
   "source": [
    "**`Converting of spectral class to numbers:`**"
   ]
  },
  {
   "cell_type": "code",
   "execution_count": 8,
   "metadata": {},
   "outputs": [
    {
     "data": {
      "text/plain": [
       "array(['M', 'B', 'A', 'F', 'O', 'K', 'G'], dtype=object)"
      ]
     },
     "execution_count": 8,
     "metadata": {},
     "output_type": "execute_result"
    }
   ],
   "source": [
    "stars['Spectral Class'].unique()"
   ]
  },
  {
   "cell_type": "code",
   "execution_count": 9,
   "metadata": {},
   "outputs": [
    {
     "data": {
      "text/plain": [
       "array([6, 1, 2, 3, 0, 5, 4])"
      ]
     },
     "execution_count": 9,
     "metadata": {},
     "output_type": "execute_result"
    }
   ],
   "source": [
    "replace_class_dict = {\n",
    "  'M': 6,\n",
    "  'B': 1,\n",
    "  'A': 2,\n",
    "  'F': 3,\n",
    "  'O': 0,\n",
    "  'K': 5,\n",
    "  'G': 4\n",
    "}\n",
    "stars['Spectral Class numbers'] = stars['Spectral Class'].map(replace_class_dict)\n",
    "stars['Spectral Class numbers'].unique()"
   ]
  },
  {
   "cell_type": "code",
   "execution_count": 10,
   "metadata": {},
   "outputs": [
    {
     "data": {
      "text/html": [
       "<div>\n",
       "<style scoped>\n",
       "    .dataframe tbody tr th:only-of-type {\n",
       "        vertical-align: middle;\n",
       "    }\n",
       "\n",
       "    .dataframe tbody tr th {\n",
       "        vertical-align: top;\n",
       "    }\n",
       "\n",
       "    .dataframe thead th {\n",
       "        text-align: right;\n",
       "    }\n",
       "</style>\n",
       "<table border=\"1\" class=\"dataframe\">\n",
       "  <thead>\n",
       "    <tr style=\"text-align: right;\">\n",
       "      <th></th>\n",
       "      <th>Temperature (K)</th>\n",
       "      <th>Luminosity(L/Lo)</th>\n",
       "      <th>Radius(R/Ro)</th>\n",
       "      <th>Absolute magnitude(Mv)</th>\n",
       "      <th>Star type</th>\n",
       "      <th>Star color</th>\n",
       "      <th>Spectral Class</th>\n",
       "      <th>Star type names</th>\n",
       "      <th>Spectral Class numbers</th>\n",
       "    </tr>\n",
       "  </thead>\n",
       "  <tbody>\n",
       "    <tr>\n",
       "      <th>125</th>\n",
       "      <td>3225</td>\n",
       "      <td>0.00076</td>\n",
       "      <td>0.12100</td>\n",
       "      <td>19.63</td>\n",
       "      <td>0</td>\n",
       "      <td>Red</td>\n",
       "      <td>M</td>\n",
       "      <td>Red Dwarf</td>\n",
       "      <td>6</td>\n",
       "    </tr>\n",
       "    <tr>\n",
       "      <th>142</th>\n",
       "      <td>18290</td>\n",
       "      <td>0.00130</td>\n",
       "      <td>0.00934</td>\n",
       "      <td>12.78</td>\n",
       "      <td>2</td>\n",
       "      <td>Blue</td>\n",
       "      <td>B</td>\n",
       "      <td>White Dwarf</td>\n",
       "      <td>1</td>\n",
       "    </tr>\n",
       "    <tr>\n",
       "      <th>196</th>\n",
       "      <td>3142</td>\n",
       "      <td>0.00132</td>\n",
       "      <td>0.25800</td>\n",
       "      <td>14.12</td>\n",
       "      <td>1</td>\n",
       "      <td>Red</td>\n",
       "      <td>M</td>\n",
       "      <td>Brown Dwarf</td>\n",
       "      <td>6</td>\n",
       "    </tr>\n",
       "    <tr>\n",
       "      <th>110</th>\n",
       "      <td>3459</td>\n",
       "      <td>100000.00000</td>\n",
       "      <td>1289.00000</td>\n",
       "      <td>-10.70</td>\n",
       "      <td>5</td>\n",
       "      <td>Red</td>\n",
       "      <td>M</td>\n",
       "      <td>Hyper Giants</td>\n",
       "      <td>6</td>\n",
       "    </tr>\n",
       "    <tr>\n",
       "      <th>85</th>\n",
       "      <td>9675</td>\n",
       "      <td>0.00045</td>\n",
       "      <td>0.01090</td>\n",
       "      <td>13.98</td>\n",
       "      <td>2</td>\n",
       "      <td>Blue white</td>\n",
       "      <td>A</td>\n",
       "      <td>White Dwarf</td>\n",
       "      <td>2</td>\n",
       "    </tr>\n",
       "    <tr>\n",
       "      <th>89</th>\n",
       "      <td>19860</td>\n",
       "      <td>0.00110</td>\n",
       "      <td>0.01310</td>\n",
       "      <td>11.34</td>\n",
       "      <td>2</td>\n",
       "      <td>Blue</td>\n",
       "      <td>B</td>\n",
       "      <td>White Dwarf</td>\n",
       "      <td>1</td>\n",
       "    </tr>\n",
       "    <tr>\n",
       "      <th>1</th>\n",
       "      <td>3042</td>\n",
       "      <td>0.00050</td>\n",
       "      <td>0.15420</td>\n",
       "      <td>16.60</td>\n",
       "      <td>0</td>\n",
       "      <td>Red</td>\n",
       "      <td>M</td>\n",
       "      <td>Red Dwarf</td>\n",
       "      <td>6</td>\n",
       "    </tr>\n",
       "    <tr>\n",
       "      <th>73</th>\n",
       "      <td>3150</td>\n",
       "      <td>0.00880</td>\n",
       "      <td>0.35000</td>\n",
       "      <td>11.94</td>\n",
       "      <td>1</td>\n",
       "      <td>Red</td>\n",
       "      <td>M</td>\n",
       "      <td>Brown Dwarf</td>\n",
       "      <td>6</td>\n",
       "    </tr>\n",
       "    <tr>\n",
       "      <th>215</th>\n",
       "      <td>32460</td>\n",
       "      <td>173800.00000</td>\n",
       "      <td>6.23700</td>\n",
       "      <td>-4.36</td>\n",
       "      <td>3</td>\n",
       "      <td>Blue</td>\n",
       "      <td>O</td>\n",
       "      <td>Main Sequence</td>\n",
       "      <td>0</td>\n",
       "    </tr>\n",
       "    <tr>\n",
       "      <th>66</th>\n",
       "      <td>2945</td>\n",
       "      <td>0.00032</td>\n",
       "      <td>0.09300</td>\n",
       "      <td>18.34</td>\n",
       "      <td>0</td>\n",
       "      <td>Red</td>\n",
       "      <td>M</td>\n",
       "      <td>Red Dwarf</td>\n",
       "      <td>6</td>\n",
       "    </tr>\n",
       "  </tbody>\n",
       "</table>\n",
       "</div>"
      ],
      "text/plain": [
       "     Temperature (K)  Luminosity(L/Lo)  Radius(R/Ro)  Absolute magnitude(Mv)  \\\n",
       "125             3225           0.00076       0.12100                   19.63   \n",
       "142            18290           0.00130       0.00934                   12.78   \n",
       "196             3142           0.00132       0.25800                   14.12   \n",
       "110             3459      100000.00000    1289.00000                  -10.70   \n",
       "85              9675           0.00045       0.01090                   13.98   \n",
       "89             19860           0.00110       0.01310                   11.34   \n",
       "1               3042           0.00050       0.15420                   16.60   \n",
       "73              3150           0.00880       0.35000                   11.94   \n",
       "215            32460      173800.00000       6.23700                   -4.36   \n",
       "66              2945           0.00032       0.09300                   18.34   \n",
       "\n",
       "     Star type  Star color Spectral Class Star type names  \\\n",
       "125          0         Red              M       Red Dwarf   \n",
       "142          2        Blue              B     White Dwarf   \n",
       "196          1         Red              M     Brown Dwarf   \n",
       "110          5         Red              M    Hyper Giants   \n",
       "85           2  Blue white              A     White Dwarf   \n",
       "89           2        Blue              B     White Dwarf   \n",
       "1            0         Red              M       Red Dwarf   \n",
       "73           1         Red              M     Brown Dwarf   \n",
       "215          3        Blue              O   Main Sequence   \n",
       "66           0         Red              M       Red Dwarf   \n",
       "\n",
       "     Spectral Class numbers  \n",
       "125                       6  \n",
       "142                       1  \n",
       "196                       6  \n",
       "110                       6  \n",
       "85                        2  \n",
       "89                        1  \n",
       "1                         6  \n",
       "73                        6  \n",
       "215                       0  \n",
       "66                        6  "
      ]
     },
     "execution_count": 10,
     "metadata": {},
     "output_type": "execute_result"
    }
   ],
   "source": [
    "stars.sample(n=10)"
   ]
  },
  {
   "cell_type": "code",
   "execution_count": 11,
   "metadata": {},
   "outputs": [
    {
     "name": "stdout",
     "output_type": "stream",
     "text": [
      "<class 'pandas.core.frame.DataFrame'>\n",
      "RangeIndex: 240 entries, 0 to 239\n",
      "Data columns (total 9 columns):\n",
      " #   Column                  Non-Null Count  Dtype  \n",
      "---  ------                  --------------  -----  \n",
      " 0   Temperature (K)         240 non-null    int64  \n",
      " 1   Luminosity(L/Lo)        240 non-null    float64\n",
      " 2   Radius(R/Ro)            240 non-null    float64\n",
      " 3   Absolute magnitude(Mv)  240 non-null    float64\n",
      " 4   Star type               240 non-null    int64  \n",
      " 5   Star color              240 non-null    object \n",
      " 6   Spectral Class          240 non-null    object \n",
      " 7   Star type names         240 non-null    object \n",
      " 8   Spectral Class numbers  240 non-null    int64  \n",
      "dtypes: float64(3), int64(3), object(3)\n",
      "memory usage: 17.0+ KB\n"
     ]
    }
   ],
   "source": [
    "stars.info()"
   ]
  },
  {
   "cell_type": "markdown",
   "metadata": {},
   "source": [
    "**`Counting of the number of stars:`**"
   ]
  },
  {
   "cell_type": "code",
   "execution_count": 12,
   "metadata": {},
   "outputs": [
    {
     "name": "stdout",
     "output_type": "stream",
     "text": [
      "[0 1 2 3 4 5]\n",
      "['Red' 'Blue white' 'White' 'Yellowish white' 'Pale yellow orange' 'Blue'\n",
      " 'Whitish' 'Orange' 'White yellow' 'Yellowish' 'Orange red']\n",
      "['M' 'B' 'A' 'F' 'O' 'K' 'G']\n"
     ]
    }
   ],
   "source": [
    "print(stars['Star type'].unique())\n",
    "print(stars['Star color'].unique())\n",
    "print(stars['Spectral Class'].unique())"
   ]
  },
  {
   "cell_type": "code",
   "execution_count": 20,
   "metadata": {},
   "outputs": [
    {
     "name": "stdout",
     "output_type": "stream",
     "text": [
      "Star type\n",
      "0    40\n",
      "1    40\n",
      "2    40\n",
      "3    40\n",
      "4    40\n",
      "5    40\n",
      "Name: count, dtype: int64\n",
      "\n",
      "Star color\n",
      "Blue                   56\n",
      "Blue white             41\n",
      "Orange                  2\n",
      "Orange red              1\n",
      "Pale yellow orange      1\n",
      "Red                   112\n",
      "White                  10\n",
      "White yellow            1\n",
      "Whitish                 2\n",
      "Yellowish               3\n",
      "Yellowish white        11\n",
      "Name: count, dtype: int64\n",
      "\n",
      "Spectral Class\n",
      "A     19\n",
      "B     46\n",
      "F     17\n",
      "G      1\n",
      "K      6\n",
      "M    111\n",
      "O     40\n",
      "Name: count, dtype: int64\n"
     ]
    }
   ],
   "source": [
    "print(f\"{stars['Star type'].value_counts()}\\n\")\n",
    "print(f\"{stars['Star color'].value_counts().sort_index()}\\n\")\n",
    "print(stars['Spectral Class'].value_counts().sort_index())"
   ]
  },
  {
   "cell_type": "code",
   "execution_count": null,
   "metadata": {},
   "outputs": [],
   "source": []
  }
 ],
 "metadata": {
  "kernelspec": {
   "display_name": "Python 3 (ipykernel)",
   "language": "python",
   "name": "python3"
  },
  "language_info": {
   "codemirror_mode": {
    "name": "ipython",
    "version": 3
   },
   "file_extension": ".py",
   "mimetype": "text/x-python",
   "name": "python",
   "nbconvert_exporter": "python",
   "pygments_lexer": "ipython3",
   "version": "3.12.4"
  },
  "vscode": {
   "interpreter": {
    "hash": "aee8b7b246df8f9039afb4144a1f6fd8d2ca17a180786b69acc140d282b71a49"
   }
  }
 },
 "nbformat": 4,
 "nbformat_minor": 4
}
