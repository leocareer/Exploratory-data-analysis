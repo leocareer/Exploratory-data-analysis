{
 "cells": [
  {
   "cell_type": "markdown",
   "metadata": {},
   "source": [
    "# Stars"
   ]
  },
  {
   "cell_type": "markdown",
   "metadata": {},
   "source": [
    "The file stars.csv contains information about 240 stars.\n",
    "\n",
    "1) Temperature (K) — the temperature in Kelvin;\n",
    "2) Luminosity (L/Lo) — the luminosity of the star relative to the solar luminosity L = 3.828 * 10^26 (W);\n",
    "• Radius (R/Ro) — the radius of the star relative to the radius of the sun R = 6.9551 * 10^8 (m);\n",
    "• Absolute magnitude (Mv) — the absolute magnitude of the star;\n",
    "• Star color — the color of the star;\n",
    "• Star type — the type of star, represented by a number from 0 to 5, where:\n",
    "\t\t0 — Red Dwarf,\n",
    "\t\t1 — Brown Dwarf,\n",
    "\t\t2 — White Dwarf,\n",
    "\t\t3 — Main Sequence,\n",
    "\t\t4 — Super Giants,\n",
    "\t\t5 — Hyper Giants;\n",
    "• Spectral Class — the spectral class of the star (one of O, B, A, F, G, K, or M)."
   ]
  },
  {
   "cell_type": "code",
   "execution_count": null,
   "metadata": {},
   "outputs": [],
   "source": []
  }
 ],
 "metadata": {
  "kernelspec": {
   "display_name": "Python 3 (ipykernel)",
   "language": "python",
   "name": "python3"
  },
  "language_info": {
   "codemirror_mode": {
    "name": "ipython",
    "version": 3
   },
   "file_extension": ".py",
   "mimetype": "text/x-python",
   "name": "python",
   "nbconvert_exporter": "python",
   "pygments_lexer": "ipython3",
   "version": "3.12.4"
  },
  "vscode": {
   "interpreter": {
    "hash": "aee8b7b246df8f9039afb4144a1f6fd8d2ca17a180786b69acc140d282b71a49"
   }
  }
 },
 "nbformat": 4,
 "nbformat_minor": 4
}
